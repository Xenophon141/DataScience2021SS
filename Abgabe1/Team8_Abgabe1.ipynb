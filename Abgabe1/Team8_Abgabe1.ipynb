{
  "nbformat": 4,
  "nbformat_minor": 0,
  "metadata": {
    "colab": {
      "name": "Abgabe01_24April21.ipynb",
      "provenance": [],
      "collapsed_sections": []
    },
    "kernelspec": {
      "name": "python394jvsc74a57bd0e922dd073470bdcc017ae3abd31d6491d6ed7bf31c1d559806e5511bfea88b81",
      "display_name": "Python 3.9.4 64-bit"
    },
    "language_info": {
      "name": "python",
      "version": "3.9.4"
    }
  },
  "cells": [
    {
      "cell_type": "markdown",
      "metadata": {
        "id": "X9x-kUzUQ54-"
      },
      "source": [
        "# Abgabe 1 - 24 April 2021 Team 08"
      ]
    },
    {
      "cell_type": "code",
      "metadata": {
        "id": "c1uOaKwNwmSq"
      },
      "source": [
        "# import libraries\n",
        "import numpy as np\n",
        "import matplotlib.pyplot as plt\n",
        "import pandas as pd\n",
        "import seaborn as sns\n",
        "import os"
      ],
      "execution_count": 85,
      "outputs": []
    },
    {
      "cell_type": "code",
      "metadata": {
        "id": "vL9Pd0H4xKso"
      },
      "source": [
        "# titanic.csv Datensatz laden\n",
        "titanic = pd.read_csv(\"titanic.csv\", sep=\",\")"
      ],
      "execution_count": 86,
      "outputs": []
    },
    {
      "cell_type": "code",
      "metadata": {
        "id": "Y0lh0BAIxtU7",
        "colab": {
          "base_uri": "https://localhost:8080/",
          "height": 419
        },
        "outputId": "7697a7c0-7a39-4b2e-a0a3-f8785323fbec"
      },
      "source": [
        "# Datensatz anzeigen\n",
        "titanic.head()"
      ],
      "execution_count": 87,
      "outputs": [
        {
          "output_type": "execute_result",
          "data": {
            "text/plain": [
              "   Unnamed: 0  survived  pclass     sex   age  sibsp  parch     fare embarked  \\\n",
              "0           0         0       3    male  22.0      1      0   7.2500        S   \n",
              "1           1         1       1  female  38.0      1      0  71.2833        C   \n",
              "2           2         1       3  female  26.0      0      0   7.9250        S   \n",
              "3           3         1       1  female  35.0      1      0  53.1000        S   \n",
              "4           4         0       3    male  35.0      0      0   8.0500        S   \n",
              "\n",
              "   class    who  adult_male deck  embark_town alive  alone  \n",
              "0  Third    man        True  NaN  Southampton    no  False  \n",
              "1  First  woman       False    C    Cherbourg   yes  False  \n",
              "2  Third  woman       False  NaN  Southampton   yes   True  \n",
              "3  First  woman       False    C  Southampton   yes  False  \n",
              "4  Third    man        True  NaN  Southampton    no   True  "
            ],
            "text/html": "<div>\n<style scoped>\n    .dataframe tbody tr th:only-of-type {\n        vertical-align: middle;\n    }\n\n    .dataframe tbody tr th {\n        vertical-align: top;\n    }\n\n    .dataframe thead th {\n        text-align: right;\n    }\n</style>\n<table border=\"1\" class=\"dataframe\">\n  <thead>\n    <tr style=\"text-align: right;\">\n      <th></th>\n      <th>Unnamed: 0</th>\n      <th>survived</th>\n      <th>pclass</th>\n      <th>sex</th>\n      <th>age</th>\n      <th>sibsp</th>\n      <th>parch</th>\n      <th>fare</th>\n      <th>embarked</th>\n      <th>class</th>\n      <th>who</th>\n      <th>adult_male</th>\n      <th>deck</th>\n      <th>embark_town</th>\n      <th>alive</th>\n      <th>alone</th>\n    </tr>\n  </thead>\n  <tbody>\n    <tr>\n      <th>0</th>\n      <td>0</td>\n      <td>0</td>\n      <td>3</td>\n      <td>male</td>\n      <td>22.0</td>\n      <td>1</td>\n      <td>0</td>\n      <td>7.2500</td>\n      <td>S</td>\n      <td>Third</td>\n      <td>man</td>\n      <td>True</td>\n      <td>NaN</td>\n      <td>Southampton</td>\n      <td>no</td>\n      <td>False</td>\n    </tr>\n    <tr>\n      <th>1</th>\n      <td>1</td>\n      <td>1</td>\n      <td>1</td>\n      <td>female</td>\n      <td>38.0</td>\n      <td>1</td>\n      <td>0</td>\n      <td>71.2833</td>\n      <td>C</td>\n      <td>First</td>\n      <td>woman</td>\n      <td>False</td>\n      <td>C</td>\n      <td>Cherbourg</td>\n      <td>yes</td>\n      <td>False</td>\n    </tr>\n    <tr>\n      <th>2</th>\n      <td>2</td>\n      <td>1</td>\n      <td>3</td>\n      <td>female</td>\n      <td>26.0</td>\n      <td>0</td>\n      <td>0</td>\n      <td>7.9250</td>\n      <td>S</td>\n      <td>Third</td>\n      <td>woman</td>\n      <td>False</td>\n      <td>NaN</td>\n      <td>Southampton</td>\n      <td>yes</td>\n      <td>True</td>\n    </tr>\n    <tr>\n      <th>3</th>\n      <td>3</td>\n      <td>1</td>\n      <td>1</td>\n      <td>female</td>\n      <td>35.0</td>\n      <td>1</td>\n      <td>0</td>\n      <td>53.1000</td>\n      <td>S</td>\n      <td>First</td>\n      <td>woman</td>\n      <td>False</td>\n      <td>C</td>\n      <td>Southampton</td>\n      <td>yes</td>\n      <td>False</td>\n    </tr>\n    <tr>\n      <th>4</th>\n      <td>4</td>\n      <td>0</td>\n      <td>3</td>\n      <td>male</td>\n      <td>35.0</td>\n      <td>0</td>\n      <td>0</td>\n      <td>8.0500</td>\n      <td>S</td>\n      <td>Third</td>\n      <td>man</td>\n      <td>True</td>\n      <td>NaN</td>\n      <td>Southampton</td>\n      <td>no</td>\n      <td>True</td>\n    </tr>\n  </tbody>\n</table>\n</div>"
          },
          "metadata": {},
          "execution_count": 87
        }
      ]
    },
    {
      "cell_type": "code",
      "metadata": {
        "id": "FMdZQBIHf2mp"
      },
      "source": [
        "# Alter kategorisieren\n",
        "titanic['age2'] = pd.cut(titanic['age'], [0, 18, 30,50,60,70]) "
      ],
      "execution_count": 88,
      "outputs": []
    },
    {
      "cell_type": "code",
      "metadata": {
        "id": "nbogVttKykgy",
        "colab": {
          "base_uri": "https://localhost:8080/",
          "height": 173
        },
        "outputId": "d7329277-d0b1-4b66-d4e4-bec04348f0cc"
      },
      "source": [
        "# Unerwarteter Zusammenhang zwischen \"Embark Town\" und Überlebensrate\n",
        "titanic[['embark_town','survived']].groupby('embark_town').mean()"
      ],
      "execution_count": 89,
      "outputs": [
        {
          "output_type": "execute_result",
          "data": {
            "text/plain": [
              "             survived\n",
              "embark_town          \n",
              "Cherbourg    0.553571\n",
              "Queenstown   0.389610\n",
              "Southampton  0.336957"
            ],
            "text/html": "<div>\n<style scoped>\n    .dataframe tbody tr th:only-of-type {\n        vertical-align: middle;\n    }\n\n    .dataframe tbody tr th {\n        vertical-align: top;\n    }\n\n    .dataframe thead th {\n        text-align: right;\n    }\n</style>\n<table border=\"1\" class=\"dataframe\">\n  <thead>\n    <tr style=\"text-align: right;\">\n      <th></th>\n      <th>survived</th>\n    </tr>\n    <tr>\n      <th>embark_town</th>\n      <th></th>\n    </tr>\n  </thead>\n  <tbody>\n    <tr>\n      <th>Cherbourg</th>\n      <td>0.553571</td>\n    </tr>\n    <tr>\n      <th>Queenstown</th>\n      <td>0.389610</td>\n    </tr>\n    <tr>\n      <th>Southampton</th>\n      <td>0.336957</td>\n    </tr>\n  </tbody>\n</table>\n</div>"
          },
          "metadata": {},
          "execution_count": 89
        }
      ]
    },
    {
      "cell_type": "code",
      "metadata": {
        "colab": {
          "base_uri": "https://localhost:8080/",
          "height": 377
        },
        "id": "YfvS32yBfuFV",
        "outputId": "b10b3ada-6e48-419f-f584-fdf0fe0ad1f0"
      },
      "source": [
        "titanic.hist(column='survived', by='embark_town')"
      ],
      "execution_count": 90,
      "outputs": [
        {
          "output_type": "execute_result",
          "data": {
            "text/plain": [
              "array([[<AxesSubplot:title={'center':'Cherbourg'}>,\n",
              "        <AxesSubplot:title={'center':'Queenstown'}>],\n",
              "       [<AxesSubplot:title={'center':'Southampton'}>, <AxesSubplot:>]],\n",
              "      dtype=object)"
            ]
          },
          "metadata": {},
          "execution_count": 90
        },
        {
          "output_type": "display_data",
          "data": {
            "text/plain": "<Figure size 432x288 with 4 Axes>",
            "image/svg+xml": "<?xml version=\"1.0\" encoding=\"utf-8\" standalone=\"no\"?>\r\n<!DOCTYPE svg PUBLIC \"-//W3C//DTD SVG 1.1//EN\"\r\n  \"http://www.w3.org/Graphics/SVG/1.1/DTD/svg11.dtd\">\r\n<svg height=\"274.78375pt\" version=\"1.1\" viewBox=\"0 0 386.0875 274.78375\" width=\"386.0875pt\" xmlns=\"http://www.w3.org/2000/svg\" xmlns:xlink=\"http://www.w3.org/1999/xlink\">\r\n <metadata>\r\n  <rdf:RDF xmlns:cc=\"http://creativecommons.org/ns#\" xmlns:dc=\"http://purl.org/dc/elements/1.1/\" xmlns:rdf=\"http://www.w3.org/1999/02/22-rdf-syntax-ns#\">\r\n   <cc:Work>\r\n    <dc:type rdf:resource=\"http://purl.org/dc/dcmitype/StillImage\"/>\r\n    <dc:date>2021-04-24T11:58:25.095209</dc:date>\r\n    <dc:format>image/svg+xml</dc:format>\r\n    <dc:creator>\r\n     <cc:Agent>\r\n      <dc:title>Matplotlib v3.4.1, https://matplotlib.org/</dc:title>\r\n     </cc:Agent>\r\n    </dc:creator>\r\n   </cc:Work>\r\n  </rdf:RDF>\r\n </metadata>\r\n <defs>\r\n  <style type=\"text/css\">*{stroke-linecap:butt;stroke-linejoin:round;}</style>\r\n </defs>\r\n <g id=\"figure_1\">\r\n  <g id=\"patch_1\">\r\n   <path d=\"M 0 274.78375 \r\nL 386.0875 274.78375 \r\nL 386.0875 0 \r\nL 0 0 \r\nz\r\n\" style=\"fill:none;\"/>\r\n  </g>\r\n  <g id=\"axes_1\">\r\n   <g id=\"patch_2\">\r\n    <path d=\"M 33.2875 108.718125 \r\nL 183.54837 108.718125 \r\nL 183.54837 22.318125 \r\nL 33.2875 22.318125 \r\nz\r\n\" style=\"fill:#ffffff;\"/>\r\n   </g>\r\n   <g id=\"patch_3\">\r\n    <path clip-path=\"url(#p458e75e417)\" d=\"M 40.11754 108.718125 \r\nL 53.777619 108.718125 \r\nL 53.777619 42.358678 \r\nL 40.11754 42.358678 \r\nz\r\n\" style=\"fill:#1f77b4;\"/>\r\n   </g>\r\n   <g id=\"patch_4\">\r\n    <path clip-path=\"url(#p458e75e417)\" d=\"M 53.777619 108.718125 \r\nL 67.437698 108.718125 \r\nL 67.437698 108.718125 \r\nL 53.777619 108.718125 \r\nz\r\n\" style=\"fill:#1f77b4;\"/>\r\n   </g>\r\n   <g id=\"patch_5\">\r\n    <path clip-path=\"url(#p458e75e417)\" d=\"M 67.437698 108.718125 \r\nL 81.097777 108.718125 \r\nL 81.097777 108.718125 \r\nL 67.437698 108.718125 \r\nz\r\n\" style=\"fill:#1f77b4;\"/>\r\n   </g>\r\n   <g id=\"patch_6\">\r\n    <path clip-path=\"url(#p458e75e417)\" d=\"M 81.097777 108.718125 \r\nL 94.757856 108.718125 \r\nL 94.757856 108.718125 \r\nL 81.097777 108.718125 \r\nz\r\n\" style=\"fill:#1f77b4;\"/>\r\n   </g>\r\n   <g id=\"patch_7\">\r\n    <path clip-path=\"url(#p458e75e417)\" d=\"M 94.757856 108.718125 \r\nL 108.417935 108.718125 \r\nL 108.417935 108.718125 \r\nL 94.757856 108.718125 \r\nz\r\n\" style=\"fill:#1f77b4;\"/>\r\n   </g>\r\n   <g id=\"patch_8\">\r\n    <path clip-path=\"url(#p458e75e417)\" d=\"M 108.417935 108.718125 \r\nL 122.078014 108.718125 \r\nL 122.078014 108.718125 \r\nL 108.417935 108.718125 \r\nz\r\n\" style=\"fill:#1f77b4;\"/>\r\n   </g>\r\n   <g id=\"patch_9\">\r\n    <path clip-path=\"url(#p458e75e417)\" d=\"M 122.078014 108.718125 \r\nL 135.738093 108.718125 \r\nL 135.738093 108.718125 \r\nL 122.078014 108.718125 \r\nz\r\n\" style=\"fill:#1f77b4;\"/>\r\n   </g>\r\n   <g id=\"patch_10\">\r\n    <path clip-path=\"url(#p458e75e417)\" d=\"M 135.738093 108.718125 \r\nL 149.398172 108.718125 \r\nL 149.398172 108.718125 \r\nL 135.738093 108.718125 \r\nz\r\n\" style=\"fill:#1f77b4;\"/>\r\n   </g>\r\n   <g id=\"patch_11\">\r\n    <path clip-path=\"url(#p458e75e417)\" d=\"M 149.398172 108.718125 \r\nL 163.058251 108.718125 \r\nL 163.058251 108.718125 \r\nL 149.398172 108.718125 \r\nz\r\n\" style=\"fill:#1f77b4;\"/>\r\n   </g>\r\n   <g id=\"patch_12\">\r\n    <path clip-path=\"url(#p458e75e417)\" d=\"M 163.058251 108.718125 \r\nL 176.71833 108.718125 \r\nL 176.71833 26.432411 \r\nL 163.058251 26.432411 \r\nz\r\n\" style=\"fill:#1f77b4;\"/>\r\n   </g>\r\n   <g id=\"matplotlib.axis_1\">\r\n    <g id=\"xtick_1\">\r\n     <g id=\"line2d_1\">\r\n      <defs>\r\n       <path d=\"M 0 0 \r\nL 0 3.5 \r\n\" id=\"m044f545be6\" style=\"stroke:#000000;stroke-width:0.8;\"/>\r\n      </defs>\r\n      <g>\r\n       <use style=\"stroke:#000000;stroke-width:0.8;\" x=\"40.11754\" xlink:href=\"#m044f545be6\" y=\"108.718125\"/>\r\n      </g>\r\n     </g>\r\n     <g id=\"text_1\">\r\n      <!-- 0.00 -->\r\n      <g transform=\"translate(42.876915 137.98375)rotate(-90)scale(0.1 -0.1)\">\r\n       <defs>\r\n        <path d=\"M 2034 4250 \r\nQ 1547 4250 1301 3770 \r\nQ 1056 3291 1056 2328 \r\nQ 1056 1369 1301 889 \r\nQ 1547 409 2034 409 \r\nQ 2525 409 2770 889 \r\nQ 3016 1369 3016 2328 \r\nQ 3016 3291 2770 3770 \r\nQ 2525 4250 2034 4250 \r\nz\r\nM 2034 4750 \r\nQ 2819 4750 3233 4129 \r\nQ 3647 3509 3647 2328 \r\nQ 3647 1150 3233 529 \r\nQ 2819 -91 2034 -91 \r\nQ 1250 -91 836 529 \r\nQ 422 1150 422 2328 \r\nQ 422 3509 836 4129 \r\nQ 1250 4750 2034 4750 \r\nz\r\n\" id=\"DejaVuSans-30\" transform=\"scale(0.015625)\"/>\r\n        <path d=\"M 684 794 \r\nL 1344 794 \r\nL 1344 0 \r\nL 684 0 \r\nL 684 794 \r\nz\r\n\" id=\"DejaVuSans-2e\" transform=\"scale(0.015625)\"/>\r\n       </defs>\r\n       <use xlink:href=\"#DejaVuSans-30\"/>\r\n       <use x=\"63.623047\" xlink:href=\"#DejaVuSans-2e\"/>\r\n       <use x=\"95.410156\" xlink:href=\"#DejaVuSans-30\"/>\r\n       <use x=\"159.033203\" xlink:href=\"#DejaVuSans-30\"/>\r\n      </g>\r\n     </g>\r\n    </g>\r\n    <g id=\"xtick_2\">\r\n     <g id=\"line2d_2\">\r\n      <g>\r\n       <use style=\"stroke:#000000;stroke-width:0.8;\" x=\"74.267737\" xlink:href=\"#m044f545be6\" y=\"108.718125\"/>\r\n      </g>\r\n     </g>\r\n     <g id=\"text_2\">\r\n      <!-- 0.25 -->\r\n      <g transform=\"translate(77.027112 137.98375)rotate(-90)scale(0.1 -0.1)\">\r\n       <defs>\r\n        <path d=\"M 1228 531 \r\nL 3431 531 \r\nL 3431 0 \r\nL 469 0 \r\nL 469 531 \r\nQ 828 903 1448 1529 \r\nQ 2069 2156 2228 2338 \r\nQ 2531 2678 2651 2914 \r\nQ 2772 3150 2772 3378 \r\nQ 2772 3750 2511 3984 \r\nQ 2250 4219 1831 4219 \r\nQ 1534 4219 1204 4116 \r\nQ 875 4013 500 3803 \r\nL 500 4441 \r\nQ 881 4594 1212 4672 \r\nQ 1544 4750 1819 4750 \r\nQ 2544 4750 2975 4387 \r\nQ 3406 4025 3406 3419 \r\nQ 3406 3131 3298 2873 \r\nQ 3191 2616 2906 2266 \r\nQ 2828 2175 2409 1742 \r\nQ 1991 1309 1228 531 \r\nz\r\n\" id=\"DejaVuSans-32\" transform=\"scale(0.015625)\"/>\r\n        <path d=\"M 691 4666 \r\nL 3169 4666 \r\nL 3169 4134 \r\nL 1269 4134 \r\nL 1269 2991 \r\nQ 1406 3038 1543 3061 \r\nQ 1681 3084 1819 3084 \r\nQ 2600 3084 3056 2656 \r\nQ 3513 2228 3513 1497 \r\nQ 3513 744 3044 326 \r\nQ 2575 -91 1722 -91 \r\nQ 1428 -91 1123 -41 \r\nQ 819 9 494 109 \r\nL 494 744 \r\nQ 775 591 1075 516 \r\nQ 1375 441 1709 441 \r\nQ 2250 441 2565 725 \r\nQ 2881 1009 2881 1497 \r\nQ 2881 1984 2565 2268 \r\nQ 2250 2553 1709 2553 \r\nQ 1456 2553 1204 2497 \r\nQ 953 2441 691 2322 \r\nL 691 4666 \r\nz\r\n\" id=\"DejaVuSans-35\" transform=\"scale(0.015625)\"/>\r\n       </defs>\r\n       <use xlink:href=\"#DejaVuSans-30\"/>\r\n       <use x=\"63.623047\" xlink:href=\"#DejaVuSans-2e\"/>\r\n       <use x=\"95.410156\" xlink:href=\"#DejaVuSans-32\"/>\r\n       <use x=\"159.033203\" xlink:href=\"#DejaVuSans-35\"/>\r\n      </g>\r\n     </g>\r\n    </g>\r\n    <g id=\"xtick_3\">\r\n     <g id=\"line2d_3\">\r\n      <g>\r\n       <use style=\"stroke:#000000;stroke-width:0.8;\" x=\"108.417935\" xlink:href=\"#m044f545be6\" y=\"108.718125\"/>\r\n      </g>\r\n     </g>\r\n     <g id=\"text_3\">\r\n      <!-- 0.50 -->\r\n      <g transform=\"translate(111.17731 137.98375)rotate(-90)scale(0.1 -0.1)\">\r\n       <use xlink:href=\"#DejaVuSans-30\"/>\r\n       <use x=\"63.623047\" xlink:href=\"#DejaVuSans-2e\"/>\r\n       <use x=\"95.410156\" xlink:href=\"#DejaVuSans-35\"/>\r\n       <use x=\"159.033203\" xlink:href=\"#DejaVuSans-30\"/>\r\n      </g>\r\n     </g>\r\n    </g>\r\n    <g id=\"xtick_4\">\r\n     <g id=\"line2d_4\">\r\n      <g>\r\n       <use style=\"stroke:#000000;stroke-width:0.8;\" x=\"142.568132\" xlink:href=\"#m044f545be6\" y=\"108.718125\"/>\r\n      </g>\r\n     </g>\r\n     <g id=\"text_4\">\r\n      <!-- 0.75 -->\r\n      <g transform=\"translate(145.327507 137.98375)rotate(-90)scale(0.1 -0.1)\">\r\n       <defs>\r\n        <path d=\"M 525 4666 \r\nL 3525 4666 \r\nL 3525 4397 \r\nL 1831 0 \r\nL 1172 0 \r\nL 2766 4134 \r\nL 525 4134 \r\nL 525 4666 \r\nz\r\n\" id=\"DejaVuSans-37\" transform=\"scale(0.015625)\"/>\r\n       </defs>\r\n       <use xlink:href=\"#DejaVuSans-30\"/>\r\n       <use x=\"63.623047\" xlink:href=\"#DejaVuSans-2e\"/>\r\n       <use x=\"95.410156\" xlink:href=\"#DejaVuSans-37\"/>\r\n       <use x=\"159.033203\" xlink:href=\"#DejaVuSans-35\"/>\r\n      </g>\r\n     </g>\r\n    </g>\r\n    <g id=\"xtick_5\">\r\n     <g id=\"line2d_5\">\r\n      <g>\r\n       <use style=\"stroke:#000000;stroke-width:0.8;\" x=\"176.71833\" xlink:href=\"#m044f545be6\" y=\"108.718125\"/>\r\n      </g>\r\n     </g>\r\n     <g id=\"text_5\">\r\n      <!-- 1.00 -->\r\n      <g transform=\"translate(179.477705 137.98375)rotate(-90)scale(0.1 -0.1)\">\r\n       <defs>\r\n        <path d=\"M 794 531 \r\nL 1825 531 \r\nL 1825 4091 \r\nL 703 3866 \r\nL 703 4441 \r\nL 1819 4666 \r\nL 2450 4666 \r\nL 2450 531 \r\nL 3481 531 \r\nL 3481 0 \r\nL 794 0 \r\nL 794 531 \r\nz\r\n\" id=\"DejaVuSans-31\" transform=\"scale(0.015625)\"/>\r\n       </defs>\r\n       <use xlink:href=\"#DejaVuSans-31\"/>\r\n       <use x=\"63.623047\" xlink:href=\"#DejaVuSans-2e\"/>\r\n       <use x=\"95.410156\" xlink:href=\"#DejaVuSans-30\"/>\r\n       <use x=\"159.033203\" xlink:href=\"#DejaVuSans-30\"/>\r\n      </g>\r\n     </g>\r\n    </g>\r\n   </g>\r\n   <g id=\"matplotlib.axis_2\">\r\n    <g id=\"ytick_1\">\r\n     <g id=\"line2d_6\">\r\n      <defs>\r\n       <path d=\"M 0 0 \r\nL -3.5 0 \r\n\" id=\"m7ea7eddb4d\" style=\"stroke:#000000;stroke-width:0.8;\"/>\r\n      </defs>\r\n      <g>\r\n       <use style=\"stroke:#000000;stroke-width:0.8;\" x=\"33.2875\" xlink:href=\"#m7ea7eddb4d\" y=\"108.718125\"/>\r\n      </g>\r\n     </g>\r\n     <g id=\"text_6\">\r\n      <!-- 0 -->\r\n      <g transform=\"translate(19.925 112.517344)scale(0.1 -0.1)\">\r\n       <use xlink:href=\"#DejaVuSans-30\"/>\r\n      </g>\r\n     </g>\r\n    </g>\r\n    <g id=\"ytick_2\">\r\n     <g id=\"line2d_7\">\r\n      <g>\r\n       <use style=\"stroke:#000000;stroke-width:0.8;\" x=\"33.2875\" xlink:href=\"#m7ea7eddb4d\" y=\"86.598309\"/>\r\n      </g>\r\n     </g>\r\n     <g id=\"text_7\">\r\n      <!-- 25 -->\r\n      <g transform=\"translate(13.5625 90.397528)scale(0.1 -0.1)\">\r\n       <use xlink:href=\"#DejaVuSans-32\"/>\r\n       <use x=\"63.623047\" xlink:href=\"#DejaVuSans-35\"/>\r\n      </g>\r\n     </g>\r\n    </g>\r\n    <g id=\"ytick_3\">\r\n     <g id=\"line2d_8\">\r\n      <g>\r\n       <use style=\"stroke:#000000;stroke-width:0.8;\" x=\"33.2875\" xlink:href=\"#m7ea7eddb4d\" y=\"64.478494\"/>\r\n      </g>\r\n     </g>\r\n     <g id=\"text_8\">\r\n      <!-- 50 -->\r\n      <g transform=\"translate(13.5625 68.277712)scale(0.1 -0.1)\">\r\n       <use xlink:href=\"#DejaVuSans-35\"/>\r\n       <use x=\"63.623047\" xlink:href=\"#DejaVuSans-30\"/>\r\n      </g>\r\n     </g>\r\n    </g>\r\n    <g id=\"ytick_4\">\r\n     <g id=\"line2d_9\">\r\n      <g>\r\n       <use style=\"stroke:#000000;stroke-width:0.8;\" x=\"33.2875\" xlink:href=\"#m7ea7eddb4d\" y=\"42.358678\"/>\r\n      </g>\r\n     </g>\r\n     <g id=\"text_9\">\r\n      <!-- 75 -->\r\n      <g transform=\"translate(13.5625 46.157897)scale(0.1 -0.1)\">\r\n       <use xlink:href=\"#DejaVuSans-37\"/>\r\n       <use x=\"63.623047\" xlink:href=\"#DejaVuSans-35\"/>\r\n      </g>\r\n     </g>\r\n    </g>\r\n   </g>\r\n   <g id=\"patch_13\">\r\n    <path d=\"M 33.2875 108.718125 \r\nL 33.2875 22.318125 \r\n\" style=\"fill:none;stroke:#000000;stroke-linecap:square;stroke-linejoin:miter;stroke-width:0.8;\"/>\r\n   </g>\r\n   <g id=\"patch_14\">\r\n    <path d=\"M 183.54837 108.718125 \r\nL 183.54837 22.318125 \r\n\" style=\"fill:none;stroke:#000000;stroke-linecap:square;stroke-linejoin:miter;stroke-width:0.8;\"/>\r\n   </g>\r\n   <g id=\"patch_15\">\r\n    <path d=\"M 33.2875 108.718125 \r\nL 183.54837 108.718125 \r\n\" style=\"fill:none;stroke:#000000;stroke-linecap:square;stroke-linejoin:miter;stroke-width:0.8;\"/>\r\n   </g>\r\n   <g id=\"patch_16\">\r\n    <path d=\"M 33.2875 22.318125 \r\nL 183.54837 22.318125 \r\n\" style=\"fill:none;stroke:#000000;stroke-linecap:square;stroke-linejoin:miter;stroke-width:0.8;\"/>\r\n   </g>\r\n   <g id=\"text_10\">\r\n    <!-- Cherbourg -->\r\n    <g transform=\"translate(76.813872 16.318125)scale(0.12 -0.12)\">\r\n     <defs>\r\n      <path d=\"M 4122 4306 \r\nL 4122 3641 \r\nQ 3803 3938 3442 4084 \r\nQ 3081 4231 2675 4231 \r\nQ 1875 4231 1450 3742 \r\nQ 1025 3253 1025 2328 \r\nQ 1025 1406 1450 917 \r\nQ 1875 428 2675 428 \r\nQ 3081 428 3442 575 \r\nQ 3803 722 4122 1019 \r\nL 4122 359 \r\nQ 3791 134 3420 21 \r\nQ 3050 -91 2638 -91 \r\nQ 1578 -91 968 557 \r\nQ 359 1206 359 2328 \r\nQ 359 3453 968 4101 \r\nQ 1578 4750 2638 4750 \r\nQ 3056 4750 3426 4639 \r\nQ 3797 4528 4122 4306 \r\nz\r\n\" id=\"DejaVuSans-43\" transform=\"scale(0.015625)\"/>\r\n      <path d=\"M 3513 2113 \r\nL 3513 0 \r\nL 2938 0 \r\nL 2938 2094 \r\nQ 2938 2591 2744 2837 \r\nQ 2550 3084 2163 3084 \r\nQ 1697 3084 1428 2787 \r\nQ 1159 2491 1159 1978 \r\nL 1159 0 \r\nL 581 0 \r\nL 581 4863 \r\nL 1159 4863 \r\nL 1159 2956 \r\nQ 1366 3272 1645 3428 \r\nQ 1925 3584 2291 3584 \r\nQ 2894 3584 3203 3211 \r\nQ 3513 2838 3513 2113 \r\nz\r\n\" id=\"DejaVuSans-68\" transform=\"scale(0.015625)\"/>\r\n      <path d=\"M 3597 1894 \r\nL 3597 1613 \r\nL 953 1613 \r\nQ 991 1019 1311 708 \r\nQ 1631 397 2203 397 \r\nQ 2534 397 2845 478 \r\nQ 3156 559 3463 722 \r\nL 3463 178 \r\nQ 3153 47 2828 -22 \r\nQ 2503 -91 2169 -91 \r\nQ 1331 -91 842 396 \r\nQ 353 884 353 1716 \r\nQ 353 2575 817 3079 \r\nQ 1281 3584 2069 3584 \r\nQ 2775 3584 3186 3129 \r\nQ 3597 2675 3597 1894 \r\nz\r\nM 3022 2063 \r\nQ 3016 2534 2758 2815 \r\nQ 2500 3097 2075 3097 \r\nQ 1594 3097 1305 2825 \r\nQ 1016 2553 972 2059 \r\nL 3022 2063 \r\nz\r\n\" id=\"DejaVuSans-65\" transform=\"scale(0.015625)\"/>\r\n      <path d=\"M 2631 2963 \r\nQ 2534 3019 2420 3045 \r\nQ 2306 3072 2169 3072 \r\nQ 1681 3072 1420 2755 \r\nQ 1159 2438 1159 1844 \r\nL 1159 0 \r\nL 581 0 \r\nL 581 3500 \r\nL 1159 3500 \r\nL 1159 2956 \r\nQ 1341 3275 1631 3429 \r\nQ 1922 3584 2338 3584 \r\nQ 2397 3584 2469 3576 \r\nQ 2541 3569 2628 3553 \r\nL 2631 2963 \r\nz\r\n\" id=\"DejaVuSans-72\" transform=\"scale(0.015625)\"/>\r\n      <path d=\"M 3116 1747 \r\nQ 3116 2381 2855 2742 \r\nQ 2594 3103 2138 3103 \r\nQ 1681 3103 1420 2742 \r\nQ 1159 2381 1159 1747 \r\nQ 1159 1113 1420 752 \r\nQ 1681 391 2138 391 \r\nQ 2594 391 2855 752 \r\nQ 3116 1113 3116 1747 \r\nz\r\nM 1159 2969 \r\nQ 1341 3281 1617 3432 \r\nQ 1894 3584 2278 3584 \r\nQ 2916 3584 3314 3078 \r\nQ 3713 2572 3713 1747 \r\nQ 3713 922 3314 415 \r\nQ 2916 -91 2278 -91 \r\nQ 1894 -91 1617 61 \r\nQ 1341 213 1159 525 \r\nL 1159 0 \r\nL 581 0 \r\nL 581 4863 \r\nL 1159 4863 \r\nL 1159 2969 \r\nz\r\n\" id=\"DejaVuSans-62\" transform=\"scale(0.015625)\"/>\r\n      <path d=\"M 1959 3097 \r\nQ 1497 3097 1228 2736 \r\nQ 959 2375 959 1747 \r\nQ 959 1119 1226 758 \r\nQ 1494 397 1959 397 \r\nQ 2419 397 2687 759 \r\nQ 2956 1122 2956 1747 \r\nQ 2956 2369 2687 2733 \r\nQ 2419 3097 1959 3097 \r\nz\r\nM 1959 3584 \r\nQ 2709 3584 3137 3096 \r\nQ 3566 2609 3566 1747 \r\nQ 3566 888 3137 398 \r\nQ 2709 -91 1959 -91 \r\nQ 1206 -91 779 398 \r\nQ 353 888 353 1747 \r\nQ 353 2609 779 3096 \r\nQ 1206 3584 1959 3584 \r\nz\r\n\" id=\"DejaVuSans-6f\" transform=\"scale(0.015625)\"/>\r\n      <path d=\"M 544 1381 \r\nL 544 3500 \r\nL 1119 3500 \r\nL 1119 1403 \r\nQ 1119 906 1312 657 \r\nQ 1506 409 1894 409 \r\nQ 2359 409 2629 706 \r\nQ 2900 1003 2900 1516 \r\nL 2900 3500 \r\nL 3475 3500 \r\nL 3475 0 \r\nL 2900 0 \r\nL 2900 538 \r\nQ 2691 219 2414 64 \r\nQ 2138 -91 1772 -91 \r\nQ 1169 -91 856 284 \r\nQ 544 659 544 1381 \r\nz\r\nM 1991 3584 \r\nL 1991 3584 \r\nz\r\n\" id=\"DejaVuSans-75\" transform=\"scale(0.015625)\"/>\r\n      <path d=\"M 2906 1791 \r\nQ 2906 2416 2648 2759 \r\nQ 2391 3103 1925 3103 \r\nQ 1463 3103 1205 2759 \r\nQ 947 2416 947 1791 \r\nQ 947 1169 1205 825 \r\nQ 1463 481 1925 481 \r\nQ 2391 481 2648 825 \r\nQ 2906 1169 2906 1791 \r\nz\r\nM 3481 434 \r\nQ 3481 -459 3084 -895 \r\nQ 2688 -1331 1869 -1331 \r\nQ 1566 -1331 1297 -1286 \r\nQ 1028 -1241 775 -1147 \r\nL 775 -588 \r\nQ 1028 -725 1275 -790 \r\nQ 1522 -856 1778 -856 \r\nQ 2344 -856 2625 -561 \r\nQ 2906 -266 2906 331 \r\nL 2906 616 \r\nQ 2728 306 2450 153 \r\nQ 2172 0 1784 0 \r\nQ 1141 0 747 490 \r\nQ 353 981 353 1791 \r\nQ 353 2603 747 3093 \r\nQ 1141 3584 1784 3584 \r\nQ 2172 3584 2450 3431 \r\nQ 2728 3278 2906 2969 \r\nL 2906 3500 \r\nL 3481 3500 \r\nL 3481 434 \r\nz\r\n\" id=\"DejaVuSans-67\" transform=\"scale(0.015625)\"/>\r\n     </defs>\r\n     <use xlink:href=\"#DejaVuSans-43\"/>\r\n     <use x=\"69.824219\" xlink:href=\"#DejaVuSans-68\"/>\r\n     <use x=\"133.203125\" xlink:href=\"#DejaVuSans-65\"/>\r\n     <use x=\"194.726562\" xlink:href=\"#DejaVuSans-72\"/>\r\n     <use x=\"235.839844\" xlink:href=\"#DejaVuSans-62\"/>\r\n     <use x=\"299.316406\" xlink:href=\"#DejaVuSans-6f\"/>\r\n     <use x=\"360.498047\" xlink:href=\"#DejaVuSans-75\"/>\r\n     <use x=\"423.876953\" xlink:href=\"#DejaVuSans-72\"/>\r\n     <use x=\"463.240234\" xlink:href=\"#DejaVuSans-67\"/>\r\n    </g>\r\n   </g>\r\n  </g>\r\n  <g id=\"axes_2\">\r\n   <g id=\"patch_17\">\r\n    <path d=\"M 228.62663 108.718125 \r\nL 378.8875 108.718125 \r\nL 378.8875 22.318125 \r\nL 228.62663 22.318125 \r\nz\r\n\" style=\"fill:#ffffff;\"/>\r\n   </g>\r\n   <g id=\"patch_18\">\r\n    <path clip-path=\"url(#pbb560865f0)\" d=\"M 235.45667 108.718125 \r\nL 249.116749 108.718125 \r\nL 249.116749 26.432411 \r\nL 235.45667 26.432411 \r\nz\r\n\" style=\"fill:#1f77b4;\"/>\r\n   </g>\r\n   <g id=\"patch_19\">\r\n    <path clip-path=\"url(#pbb560865f0)\" d=\"M 249.116749 108.718125 \r\nL 262.776828 108.718125 \r\nL 262.776828 108.718125 \r\nL 249.116749 108.718125 \r\nz\r\n\" style=\"fill:#1f77b4;\"/>\r\n   </g>\r\n   <g id=\"patch_20\">\r\n    <path clip-path=\"url(#pbb560865f0)\" d=\"M 262.776828 108.718125 \r\nL 276.436907 108.718125 \r\nL 276.436907 108.718125 \r\nL 262.776828 108.718125 \r\nz\r\n\" style=\"fill:#1f77b4;\"/>\r\n   </g>\r\n   <g id=\"patch_21\">\r\n    <path clip-path=\"url(#pbb560865f0)\" d=\"M 276.436907 108.718125 \r\nL 290.096986 108.718125 \r\nL 290.096986 108.718125 \r\nL 276.436907 108.718125 \r\nz\r\n\" style=\"fill:#1f77b4;\"/>\r\n   </g>\r\n   <g id=\"patch_22\">\r\n    <path clip-path=\"url(#pbb560865f0)\" d=\"M 290.096986 108.718125 \r\nL 303.757065 108.718125 \r\nL 303.757065 108.718125 \r\nL 290.096986 108.718125 \r\nz\r\n\" style=\"fill:#1f77b4;\"/>\r\n   </g>\r\n   <g id=\"patch_23\">\r\n    <path clip-path=\"url(#pbb560865f0)\" d=\"M 303.757065 108.718125 \r\nL 317.417144 108.718125 \r\nL 317.417144 108.718125 \r\nL 303.757065 108.718125 \r\nz\r\n\" style=\"fill:#1f77b4;\"/>\r\n   </g>\r\n   <g id=\"patch_24\">\r\n    <path clip-path=\"url(#pbb560865f0)\" d=\"M 317.417144 108.718125 \r\nL 331.077223 108.718125 \r\nL 331.077223 108.718125 \r\nL 317.417144 108.718125 \r\nz\r\n\" style=\"fill:#1f77b4;\"/>\r\n   </g>\r\n   <g id=\"patch_25\">\r\n    <path clip-path=\"url(#pbb560865f0)\" d=\"M 331.077223 108.718125 \r\nL 344.737302 108.718125 \r\nL 344.737302 108.718125 \r\nL 331.077223 108.718125 \r\nz\r\n\" style=\"fill:#1f77b4;\"/>\r\n   </g>\r\n   <g id=\"patch_26\">\r\n    <path clip-path=\"url(#pbb560865f0)\" d=\"M 344.737302 108.718125 \r\nL 358.397381 108.718125 \r\nL 358.397381 108.718125 \r\nL 344.737302 108.718125 \r\nz\r\n\" style=\"fill:#1f77b4;\"/>\r\n   </g>\r\n   <g id=\"patch_27\">\r\n    <path clip-path=\"url(#pbb560865f0)\" d=\"M 358.397381 108.718125 \r\nL 372.05746 108.718125 \r\nL 372.05746 56.195329 \r\nL 358.397381 56.195329 \r\nz\r\n\" style=\"fill:#1f77b4;\"/>\r\n   </g>\r\n   <g id=\"matplotlib.axis_3\">\r\n    <g id=\"xtick_6\">\r\n     <g id=\"line2d_10\">\r\n      <g>\r\n       <use style=\"stroke:#000000;stroke-width:0.8;\" x=\"235.45667\" xlink:href=\"#m044f545be6\" y=\"108.718125\"/>\r\n      </g>\r\n     </g>\r\n     <g id=\"text_11\">\r\n      <!-- 0.00 -->\r\n      <g transform=\"translate(238.216045 137.98375)rotate(-90)scale(0.1 -0.1)\">\r\n       <use xlink:href=\"#DejaVuSans-30\"/>\r\n       <use x=\"63.623047\" xlink:href=\"#DejaVuSans-2e\"/>\r\n       <use x=\"95.410156\" xlink:href=\"#DejaVuSans-30\"/>\r\n       <use x=\"159.033203\" xlink:href=\"#DejaVuSans-30\"/>\r\n      </g>\r\n     </g>\r\n    </g>\r\n    <g id=\"xtick_7\">\r\n     <g id=\"line2d_11\">\r\n      <g>\r\n       <use style=\"stroke:#000000;stroke-width:0.8;\" x=\"269.606868\" xlink:href=\"#m044f545be6\" y=\"108.718125\"/>\r\n      </g>\r\n     </g>\r\n     <g id=\"text_12\">\r\n      <!-- 0.25 -->\r\n      <g transform=\"translate(272.366243 137.98375)rotate(-90)scale(0.1 -0.1)\">\r\n       <use xlink:href=\"#DejaVuSans-30\"/>\r\n       <use x=\"63.623047\" xlink:href=\"#DejaVuSans-2e\"/>\r\n       <use x=\"95.410156\" xlink:href=\"#DejaVuSans-32\"/>\r\n       <use x=\"159.033203\" xlink:href=\"#DejaVuSans-35\"/>\r\n      </g>\r\n     </g>\r\n    </g>\r\n    <g id=\"xtick_8\">\r\n     <g id=\"line2d_12\">\r\n      <g>\r\n       <use style=\"stroke:#000000;stroke-width:0.8;\" x=\"303.757065\" xlink:href=\"#m044f545be6\" y=\"108.718125\"/>\r\n      </g>\r\n     </g>\r\n     <g id=\"text_13\">\r\n      <!-- 0.50 -->\r\n      <g transform=\"translate(306.51644 137.98375)rotate(-90)scale(0.1 -0.1)\">\r\n       <use xlink:href=\"#DejaVuSans-30\"/>\r\n       <use x=\"63.623047\" xlink:href=\"#DejaVuSans-2e\"/>\r\n       <use x=\"95.410156\" xlink:href=\"#DejaVuSans-35\"/>\r\n       <use x=\"159.033203\" xlink:href=\"#DejaVuSans-30\"/>\r\n      </g>\r\n     </g>\r\n    </g>\r\n    <g id=\"xtick_9\">\r\n     <g id=\"line2d_13\">\r\n      <g>\r\n       <use style=\"stroke:#000000;stroke-width:0.8;\" x=\"337.907263\" xlink:href=\"#m044f545be6\" y=\"108.718125\"/>\r\n      </g>\r\n     </g>\r\n     <g id=\"text_14\">\r\n      <!-- 0.75 -->\r\n      <g transform=\"translate(340.666638 137.98375)rotate(-90)scale(0.1 -0.1)\">\r\n       <use xlink:href=\"#DejaVuSans-30\"/>\r\n       <use x=\"63.623047\" xlink:href=\"#DejaVuSans-2e\"/>\r\n       <use x=\"95.410156\" xlink:href=\"#DejaVuSans-37\"/>\r\n       <use x=\"159.033203\" xlink:href=\"#DejaVuSans-35\"/>\r\n      </g>\r\n     </g>\r\n    </g>\r\n    <g id=\"xtick_10\">\r\n     <g id=\"line2d_14\">\r\n      <g>\r\n       <use style=\"stroke:#000000;stroke-width:0.8;\" x=\"372.05746\" xlink:href=\"#m044f545be6\" y=\"108.718125\"/>\r\n      </g>\r\n     </g>\r\n     <g id=\"text_15\">\r\n      <!-- 1.00 -->\r\n      <g transform=\"translate(374.816835 137.98375)rotate(-90)scale(0.1 -0.1)\">\r\n       <use xlink:href=\"#DejaVuSans-31\"/>\r\n       <use x=\"63.623047\" xlink:href=\"#DejaVuSans-2e\"/>\r\n       <use x=\"95.410156\" xlink:href=\"#DejaVuSans-30\"/>\r\n       <use x=\"159.033203\" xlink:href=\"#DejaVuSans-30\"/>\r\n      </g>\r\n     </g>\r\n    </g>\r\n   </g>\r\n   <g id=\"matplotlib.axis_4\">\r\n    <g id=\"ytick_5\">\r\n     <g id=\"line2d_15\">\r\n      <g>\r\n       <use style=\"stroke:#000000;stroke-width:0.8;\" x=\"228.62663\" xlink:href=\"#m7ea7eddb4d\" y=\"108.718125\"/>\r\n      </g>\r\n     </g>\r\n     <g id=\"text_16\">\r\n      <!-- 0 -->\r\n      <g transform=\"translate(215.26413 112.517344)scale(0.1 -0.1)\">\r\n       <use xlink:href=\"#DejaVuSans-30\"/>\r\n      </g>\r\n     </g>\r\n    </g>\r\n    <g id=\"ytick_6\">\r\n     <g id=\"line2d_16\">\r\n      <g>\r\n       <use style=\"stroke:#000000;stroke-width:0.8;\" x=\"228.62663\" xlink:href=\"#m7ea7eddb4d\" y=\"73.702927\"/>\r\n      </g>\r\n     </g>\r\n     <g id=\"text_17\">\r\n      <!-- 20 -->\r\n      <g transform=\"translate(208.90163 77.502146)scale(0.1 -0.1)\">\r\n       <use xlink:href=\"#DejaVuSans-32\"/>\r\n       <use x=\"63.623047\" xlink:href=\"#DejaVuSans-30\"/>\r\n      </g>\r\n     </g>\r\n    </g>\r\n    <g id=\"ytick_7\">\r\n     <g id=\"line2d_17\">\r\n      <g>\r\n       <use style=\"stroke:#000000;stroke-width:0.8;\" x=\"228.62663\" xlink:href=\"#m7ea7eddb4d\" y=\"38.68773\"/>\r\n      </g>\r\n     </g>\r\n     <g id=\"text_18\">\r\n      <!-- 40 -->\r\n      <g transform=\"translate(208.90163 42.486949)scale(0.1 -0.1)\">\r\n       <defs>\r\n        <path d=\"M 2419 4116 \r\nL 825 1625 \r\nL 2419 1625 \r\nL 2419 4116 \r\nz\r\nM 2253 4666 \r\nL 3047 4666 \r\nL 3047 1625 \r\nL 3713 1625 \r\nL 3713 1100 \r\nL 3047 1100 \r\nL 3047 0 \r\nL 2419 0 \r\nL 2419 1100 \r\nL 313 1100 \r\nL 313 1709 \r\nL 2253 4666 \r\nz\r\n\" id=\"DejaVuSans-34\" transform=\"scale(0.015625)\"/>\r\n       </defs>\r\n       <use xlink:href=\"#DejaVuSans-34\"/>\r\n       <use x=\"63.623047\" xlink:href=\"#DejaVuSans-30\"/>\r\n      </g>\r\n     </g>\r\n    </g>\r\n   </g>\r\n   <g id=\"patch_28\">\r\n    <path d=\"M 228.62663 108.718125 \r\nL 228.62663 22.318125 \r\n\" style=\"fill:none;stroke:#000000;stroke-linecap:square;stroke-linejoin:miter;stroke-width:0.8;\"/>\r\n   </g>\r\n   <g id=\"patch_29\">\r\n    <path d=\"M 378.8875 108.718125 \r\nL 378.8875 22.318125 \r\n\" style=\"fill:none;stroke:#000000;stroke-linecap:square;stroke-linejoin:miter;stroke-width:0.8;\"/>\r\n   </g>\r\n   <g id=\"patch_30\">\r\n    <path d=\"M 228.62663 108.718125 \r\nL 378.8875 108.718125 \r\n\" style=\"fill:none;stroke:#000000;stroke-linecap:square;stroke-linejoin:miter;stroke-width:0.8;\"/>\r\n   </g>\r\n   <g id=\"patch_31\">\r\n    <path d=\"M 228.62663 22.318125 \r\nL 378.8875 22.318125 \r\n\" style=\"fill:none;stroke:#000000;stroke-linecap:square;stroke-linejoin:miter;stroke-width:0.8;\"/>\r\n   </g>\r\n   <g id=\"text_19\">\r\n    <!-- Queenstown -->\r\n    <g transform=\"translate(266.186753 16.318125)scale(0.12 -0.12)\">\r\n     <defs>\r\n      <path d=\"M 2522 4238 \r\nQ 1834 4238 1429 3725 \r\nQ 1025 3213 1025 2328 \r\nQ 1025 1447 1429 934 \r\nQ 1834 422 2522 422 \r\nQ 3209 422 3611 934 \r\nQ 4013 1447 4013 2328 \r\nQ 4013 3213 3611 3725 \r\nQ 3209 4238 2522 4238 \r\nz\r\nM 3406 84 \r\nL 4238 -825 \r\nL 3475 -825 \r\nL 2784 -78 \r\nQ 2681 -84 2626 -87 \r\nQ 2572 -91 2522 -91 \r\nQ 1538 -91 948 567 \r\nQ 359 1225 359 2328 \r\nQ 359 3434 948 4092 \r\nQ 1538 4750 2522 4750 \r\nQ 3503 4750 4090 4092 \r\nQ 4678 3434 4678 2328 \r\nQ 4678 1516 4351 937 \r\nQ 4025 359 3406 84 \r\nz\r\n\" id=\"DejaVuSans-51\" transform=\"scale(0.015625)\"/>\r\n      <path d=\"M 3513 2113 \r\nL 3513 0 \r\nL 2938 0 \r\nL 2938 2094 \r\nQ 2938 2591 2744 2837 \r\nQ 2550 3084 2163 3084 \r\nQ 1697 3084 1428 2787 \r\nQ 1159 2491 1159 1978 \r\nL 1159 0 \r\nL 581 0 \r\nL 581 3500 \r\nL 1159 3500 \r\nL 1159 2956 \r\nQ 1366 3272 1645 3428 \r\nQ 1925 3584 2291 3584 \r\nQ 2894 3584 3203 3211 \r\nQ 3513 2838 3513 2113 \r\nz\r\n\" id=\"DejaVuSans-6e\" transform=\"scale(0.015625)\"/>\r\n      <path d=\"M 2834 3397 \r\nL 2834 2853 \r\nQ 2591 2978 2328 3040 \r\nQ 2066 3103 1784 3103 \r\nQ 1356 3103 1142 2972 \r\nQ 928 2841 928 2578 \r\nQ 928 2378 1081 2264 \r\nQ 1234 2150 1697 2047 \r\nL 1894 2003 \r\nQ 2506 1872 2764 1633 \r\nQ 3022 1394 3022 966 \r\nQ 3022 478 2636 193 \r\nQ 2250 -91 1575 -91 \r\nQ 1294 -91 989 -36 \r\nQ 684 19 347 128 \r\nL 347 722 \r\nQ 666 556 975 473 \r\nQ 1284 391 1588 391 \r\nQ 1994 391 2212 530 \r\nQ 2431 669 2431 922 \r\nQ 2431 1156 2273 1281 \r\nQ 2116 1406 1581 1522 \r\nL 1381 1569 \r\nQ 847 1681 609 1914 \r\nQ 372 2147 372 2553 \r\nQ 372 3047 722 3315 \r\nQ 1072 3584 1716 3584 \r\nQ 2034 3584 2315 3537 \r\nQ 2597 3491 2834 3397 \r\nz\r\n\" id=\"DejaVuSans-73\" transform=\"scale(0.015625)\"/>\r\n      <path d=\"M 1172 4494 \r\nL 1172 3500 \r\nL 2356 3500 \r\nL 2356 3053 \r\nL 1172 3053 \r\nL 1172 1153 \r\nQ 1172 725 1289 603 \r\nQ 1406 481 1766 481 \r\nL 2356 481 \r\nL 2356 0 \r\nL 1766 0 \r\nQ 1100 0 847 248 \r\nQ 594 497 594 1153 \r\nL 594 3053 \r\nL 172 3053 \r\nL 172 3500 \r\nL 594 3500 \r\nL 594 4494 \r\nL 1172 4494 \r\nz\r\n\" id=\"DejaVuSans-74\" transform=\"scale(0.015625)\"/>\r\n      <path d=\"M 269 3500 \r\nL 844 3500 \r\nL 1563 769 \r\nL 2278 3500 \r\nL 2956 3500 \r\nL 3675 769 \r\nL 4391 3500 \r\nL 4966 3500 \r\nL 4050 0 \r\nL 3372 0 \r\nL 2619 2869 \r\nL 1863 0 \r\nL 1184 0 \r\nL 269 3500 \r\nz\r\n\" id=\"DejaVuSans-77\" transform=\"scale(0.015625)\"/>\r\n     </defs>\r\n     <use xlink:href=\"#DejaVuSans-51\"/>\r\n     <use x=\"78.710938\" xlink:href=\"#DejaVuSans-75\"/>\r\n     <use x=\"142.089844\" xlink:href=\"#DejaVuSans-65\"/>\r\n     <use x=\"203.613281\" xlink:href=\"#DejaVuSans-65\"/>\r\n     <use x=\"265.136719\" xlink:href=\"#DejaVuSans-6e\"/>\r\n     <use x=\"328.515625\" xlink:href=\"#DejaVuSans-73\"/>\r\n     <use x=\"380.615234\" xlink:href=\"#DejaVuSans-74\"/>\r\n     <use x=\"419.824219\" xlink:href=\"#DejaVuSans-6f\"/>\r\n     <use x=\"481.005859\" xlink:href=\"#DejaVuSans-77\"/>\r\n     <use x=\"562.792969\" xlink:href=\"#DejaVuSans-6e\"/>\r\n    </g>\r\n   </g>\r\n  </g>\r\n  <g id=\"axes_3\">\r\n   <g id=\"patch_32\">\r\n    <path d=\"M 33.2875 238.318125 \r\nL 183.54837 238.318125 \r\nL 183.54837 151.918125 \r\nL 33.2875 151.918125 \r\nz\r\n\" style=\"fill:#ffffff;\"/>\r\n   </g>\r\n   <g id=\"patch_33\">\r\n    <path clip-path=\"url(#p7e8548ff00)\" d=\"M 40.11754 238.318125 \r\nL 53.777619 238.318125 \r\nL 53.777619 156.032411 \r\nL 40.11754 156.032411 \r\nz\r\n\" style=\"fill:#1f77b4;\"/>\r\n   </g>\r\n   <g id=\"patch_34\">\r\n    <path clip-path=\"url(#p7e8548ff00)\" d=\"M 53.777619 238.318125 \r\nL 67.437698 238.318125 \r\nL 67.437698 238.318125 \r\nL 53.777619 238.318125 \r\nz\r\n\" style=\"fill:#1f77b4;\"/>\r\n   </g>\r\n   <g id=\"patch_35\">\r\n    <path clip-path=\"url(#p7e8548ff00)\" d=\"M 67.437698 238.318125 \r\nL 81.097777 238.318125 \r\nL 81.097777 238.318125 \r\nL 67.437698 238.318125 \r\nz\r\n\" style=\"fill:#1f77b4;\"/>\r\n   </g>\r\n   <g id=\"patch_36\">\r\n    <path clip-path=\"url(#p7e8548ff00)\" d=\"M 81.097777 238.318125 \r\nL 94.757856 238.318125 \r\nL 94.757856 238.318125 \r\nL 81.097777 238.318125 \r\nz\r\n\" style=\"fill:#1f77b4;\"/>\r\n   </g>\r\n   <g id=\"patch_37\">\r\n    <path clip-path=\"url(#p7e8548ff00)\" d=\"M 94.757856 238.318125 \r\nL 108.417935 238.318125 \r\nL 108.417935 238.318125 \r\nL 94.757856 238.318125 \r\nz\r\n\" style=\"fill:#1f77b4;\"/>\r\n   </g>\r\n   <g id=\"patch_38\">\r\n    <path clip-path=\"url(#p7e8548ff00)\" d=\"M 108.417935 238.318125 \r\nL 122.078014 238.318125 \r\nL 122.078014 238.318125 \r\nL 108.417935 238.318125 \r\nz\r\n\" style=\"fill:#1f77b4;\"/>\r\n   </g>\r\n   <g id=\"patch_39\">\r\n    <path clip-path=\"url(#p7e8548ff00)\" d=\"M 122.078014 238.318125 \r\nL 135.738093 238.318125 \r\nL 135.738093 238.318125 \r\nL 122.078014 238.318125 \r\nz\r\n\" style=\"fill:#1f77b4;\"/>\r\n   </g>\r\n   <g id=\"patch_40\">\r\n    <path clip-path=\"url(#p7e8548ff00)\" d=\"M 135.738093 238.318125 \r\nL 149.398172 238.318125 \r\nL 149.398172 238.318125 \r\nL 135.738093 238.318125 \r\nz\r\n\" style=\"fill:#1f77b4;\"/>\r\n   </g>\r\n   <g id=\"patch_41\">\r\n    <path clip-path=\"url(#p7e8548ff00)\" d=\"M 149.398172 238.318125 \r\nL 163.058251 238.318125 \r\nL 163.058251 238.318125 \r\nL 149.398172 238.318125 \r\nz\r\n\" style=\"fill:#1f77b4;\"/>\r\n   </g>\r\n   <g id=\"patch_42\">\r\n    <path clip-path=\"url(#p7e8548ff00)\" d=\"M 163.058251 238.318125 \r\nL 176.71833 238.318125 \r\nL 176.71833 196.500795 \r\nL 163.058251 196.500795 \r\nz\r\n\" style=\"fill:#1f77b4;\"/>\r\n   </g>\r\n   <g id=\"matplotlib.axis_5\">\r\n    <g id=\"xtick_11\">\r\n     <g id=\"line2d_18\">\r\n      <g>\r\n       <use style=\"stroke:#000000;stroke-width:0.8;\" x=\"40.11754\" xlink:href=\"#m044f545be6\" y=\"238.318125\"/>\r\n      </g>\r\n     </g>\r\n     <g id=\"text_20\">\r\n      <!-- 0.00 -->\r\n      <g transform=\"translate(42.876915 267.58375)rotate(-90)scale(0.1 -0.1)\">\r\n       <use xlink:href=\"#DejaVuSans-30\"/>\r\n       <use x=\"63.623047\" xlink:href=\"#DejaVuSans-2e\"/>\r\n       <use x=\"95.410156\" xlink:href=\"#DejaVuSans-30\"/>\r\n       <use x=\"159.033203\" xlink:href=\"#DejaVuSans-30\"/>\r\n      </g>\r\n     </g>\r\n    </g>\r\n    <g id=\"xtick_12\">\r\n     <g id=\"line2d_19\">\r\n      <g>\r\n       <use style=\"stroke:#000000;stroke-width:0.8;\" x=\"74.267737\" xlink:href=\"#m044f545be6\" y=\"238.318125\"/>\r\n      </g>\r\n     </g>\r\n     <g id=\"text_21\">\r\n      <!-- 0.25 -->\r\n      <g transform=\"translate(77.027112 267.58375)rotate(-90)scale(0.1 -0.1)\">\r\n       <use xlink:href=\"#DejaVuSans-30\"/>\r\n       <use x=\"63.623047\" xlink:href=\"#DejaVuSans-2e\"/>\r\n       <use x=\"95.410156\" xlink:href=\"#DejaVuSans-32\"/>\r\n       <use x=\"159.033203\" xlink:href=\"#DejaVuSans-35\"/>\r\n      </g>\r\n     </g>\r\n    </g>\r\n    <g id=\"xtick_13\">\r\n     <g id=\"line2d_20\">\r\n      <g>\r\n       <use style=\"stroke:#000000;stroke-width:0.8;\" x=\"108.417935\" xlink:href=\"#m044f545be6\" y=\"238.318125\"/>\r\n      </g>\r\n     </g>\r\n     <g id=\"text_22\">\r\n      <!-- 0.50 -->\r\n      <g transform=\"translate(111.17731 267.58375)rotate(-90)scale(0.1 -0.1)\">\r\n       <use xlink:href=\"#DejaVuSans-30\"/>\r\n       <use x=\"63.623047\" xlink:href=\"#DejaVuSans-2e\"/>\r\n       <use x=\"95.410156\" xlink:href=\"#DejaVuSans-35\"/>\r\n       <use x=\"159.033203\" xlink:href=\"#DejaVuSans-30\"/>\r\n      </g>\r\n     </g>\r\n    </g>\r\n    <g id=\"xtick_14\">\r\n     <g id=\"line2d_21\">\r\n      <g>\r\n       <use style=\"stroke:#000000;stroke-width:0.8;\" x=\"142.568132\" xlink:href=\"#m044f545be6\" y=\"238.318125\"/>\r\n      </g>\r\n     </g>\r\n     <g id=\"text_23\">\r\n      <!-- 0.75 -->\r\n      <g transform=\"translate(145.327507 267.58375)rotate(-90)scale(0.1 -0.1)\">\r\n       <use xlink:href=\"#DejaVuSans-30\"/>\r\n       <use x=\"63.623047\" xlink:href=\"#DejaVuSans-2e\"/>\r\n       <use x=\"95.410156\" xlink:href=\"#DejaVuSans-37\"/>\r\n       <use x=\"159.033203\" xlink:href=\"#DejaVuSans-35\"/>\r\n      </g>\r\n     </g>\r\n    </g>\r\n    <g id=\"xtick_15\">\r\n     <g id=\"line2d_22\">\r\n      <g>\r\n       <use style=\"stroke:#000000;stroke-width:0.8;\" x=\"176.71833\" xlink:href=\"#m044f545be6\" y=\"238.318125\"/>\r\n      </g>\r\n     </g>\r\n     <g id=\"text_24\">\r\n      <!-- 1.00 -->\r\n      <g transform=\"translate(179.477705 267.58375)rotate(-90)scale(0.1 -0.1)\">\r\n       <use xlink:href=\"#DejaVuSans-31\"/>\r\n       <use x=\"63.623047\" xlink:href=\"#DejaVuSans-2e\"/>\r\n       <use x=\"95.410156\" xlink:href=\"#DejaVuSans-30\"/>\r\n       <use x=\"159.033203\" xlink:href=\"#DejaVuSans-30\"/>\r\n      </g>\r\n     </g>\r\n    </g>\r\n   </g>\r\n   <g id=\"matplotlib.axis_6\">\r\n    <g id=\"ytick_8\">\r\n     <g id=\"line2d_23\">\r\n      <g>\r\n       <use style=\"stroke:#000000;stroke-width:0.8;\" x=\"33.2875\" xlink:href=\"#m7ea7eddb4d\" y=\"238.318125\"/>\r\n      </g>\r\n     </g>\r\n     <g id=\"text_25\">\r\n      <!-- 0 -->\r\n      <g transform=\"translate(19.925 242.117344)scale(0.1 -0.1)\">\r\n       <use xlink:href=\"#DejaVuSans-30\"/>\r\n      </g>\r\n     </g>\r\n    </g>\r\n    <g id=\"ytick_9\">\r\n     <g id=\"line2d_24\">\r\n      <g>\r\n       <use style=\"stroke:#000000;stroke-width:0.8;\" x=\"33.2875\" xlink:href=\"#m7ea7eddb4d\" y=\"199.776807\"/>\r\n      </g>\r\n     </g>\r\n     <g id=\"text_26\">\r\n      <!-- 200 -->\r\n      <g transform=\"translate(7.2 203.576026)scale(0.1 -0.1)\">\r\n       <use xlink:href=\"#DejaVuSans-32\"/>\r\n       <use x=\"63.623047\" xlink:href=\"#DejaVuSans-30\"/>\r\n       <use x=\"127.246094\" xlink:href=\"#DejaVuSans-30\"/>\r\n      </g>\r\n     </g>\r\n    </g>\r\n    <g id=\"ytick_10\">\r\n     <g id=\"line2d_25\">\r\n      <g>\r\n       <use style=\"stroke:#000000;stroke-width:0.8;\" x=\"33.2875\" xlink:href=\"#m7ea7eddb4d\" y=\"161.235489\"/>\r\n      </g>\r\n     </g>\r\n     <g id=\"text_27\">\r\n      <!-- 400 -->\r\n      <g transform=\"translate(7.2 165.034707)scale(0.1 -0.1)\">\r\n       <use xlink:href=\"#DejaVuSans-34\"/>\r\n       <use x=\"63.623047\" xlink:href=\"#DejaVuSans-30\"/>\r\n       <use x=\"127.246094\" xlink:href=\"#DejaVuSans-30\"/>\r\n      </g>\r\n     </g>\r\n    </g>\r\n   </g>\r\n   <g id=\"patch_43\">\r\n    <path d=\"M 33.2875 238.318125 \r\nL 33.2875 151.918125 \r\n\" style=\"fill:none;stroke:#000000;stroke-linecap:square;stroke-linejoin:miter;stroke-width:0.8;\"/>\r\n   </g>\r\n   <g id=\"patch_44\">\r\n    <path d=\"M 183.54837 238.318125 \r\nL 183.54837 151.918125 \r\n\" style=\"fill:none;stroke:#000000;stroke-linecap:square;stroke-linejoin:miter;stroke-width:0.8;\"/>\r\n   </g>\r\n   <g id=\"patch_45\">\r\n    <path d=\"M 33.2875 238.318125 \r\nL 183.54837 238.318125 \r\n\" style=\"fill:none;stroke:#000000;stroke-linecap:square;stroke-linejoin:miter;stroke-width:0.8;\"/>\r\n   </g>\r\n   <g id=\"patch_46\">\r\n    <path d=\"M 33.2875 151.918125 \r\nL 183.54837 151.918125 \r\n\" style=\"fill:none;stroke:#000000;stroke-linecap:square;stroke-linejoin:miter;stroke-width:0.8;\"/>\r\n   </g>\r\n   <g id=\"text_28\">\r\n    <!-- Southampton -->\r\n    <g transform=\"translate(67.824185 145.918125)scale(0.12 -0.12)\">\r\n     <defs>\r\n      <path d=\"M 3425 4513 \r\nL 3425 3897 \r\nQ 3066 4069 2747 4153 \r\nQ 2428 4238 2131 4238 \r\nQ 1616 4238 1336 4038 \r\nQ 1056 3838 1056 3469 \r\nQ 1056 3159 1242 3001 \r\nQ 1428 2844 1947 2747 \r\nL 2328 2669 \r\nQ 3034 2534 3370 2195 \r\nQ 3706 1856 3706 1288 \r\nQ 3706 609 3251 259 \r\nQ 2797 -91 1919 -91 \r\nQ 1588 -91 1214 -16 \r\nQ 841 59 441 206 \r\nL 441 856 \r\nQ 825 641 1194 531 \r\nQ 1563 422 1919 422 \r\nQ 2459 422 2753 634 \r\nQ 3047 847 3047 1241 \r\nQ 3047 1584 2836 1778 \r\nQ 2625 1972 2144 2069 \r\nL 1759 2144 \r\nQ 1053 2284 737 2584 \r\nQ 422 2884 422 3419 \r\nQ 422 4038 858 4394 \r\nQ 1294 4750 2059 4750 \r\nQ 2388 4750 2728 4690 \r\nQ 3069 4631 3425 4513 \r\nz\r\n\" id=\"DejaVuSans-53\" transform=\"scale(0.015625)\"/>\r\n      <path d=\"M 2194 1759 \r\nQ 1497 1759 1228 1600 \r\nQ 959 1441 959 1056 \r\nQ 959 750 1161 570 \r\nQ 1363 391 1709 391 \r\nQ 2188 391 2477 730 \r\nQ 2766 1069 2766 1631 \r\nL 2766 1759 \r\nL 2194 1759 \r\nz\r\nM 3341 1997 \r\nL 3341 0 \r\nL 2766 0 \r\nL 2766 531 \r\nQ 2569 213 2275 61 \r\nQ 1981 -91 1556 -91 \r\nQ 1019 -91 701 211 \r\nQ 384 513 384 1019 \r\nQ 384 1609 779 1909 \r\nQ 1175 2209 1959 2209 \r\nL 2766 2209 \r\nL 2766 2266 \r\nQ 2766 2663 2505 2880 \r\nQ 2244 3097 1772 3097 \r\nQ 1472 3097 1187 3025 \r\nQ 903 2953 641 2809 \r\nL 641 3341 \r\nQ 956 3463 1253 3523 \r\nQ 1550 3584 1831 3584 \r\nQ 2591 3584 2966 3190 \r\nQ 3341 2797 3341 1997 \r\nz\r\n\" id=\"DejaVuSans-61\" transform=\"scale(0.015625)\"/>\r\n      <path d=\"M 3328 2828 \r\nQ 3544 3216 3844 3400 \r\nQ 4144 3584 4550 3584 \r\nQ 5097 3584 5394 3201 \r\nQ 5691 2819 5691 2113 \r\nL 5691 0 \r\nL 5113 0 \r\nL 5113 2094 \r\nQ 5113 2597 4934 2840 \r\nQ 4756 3084 4391 3084 \r\nQ 3944 3084 3684 2787 \r\nQ 3425 2491 3425 1978 \r\nL 3425 0 \r\nL 2847 0 \r\nL 2847 2094 \r\nQ 2847 2600 2669 2842 \r\nQ 2491 3084 2119 3084 \r\nQ 1678 3084 1418 2786 \r\nQ 1159 2488 1159 1978 \r\nL 1159 0 \r\nL 581 0 \r\nL 581 3500 \r\nL 1159 3500 \r\nL 1159 2956 \r\nQ 1356 3278 1631 3431 \r\nQ 1906 3584 2284 3584 \r\nQ 2666 3584 2933 3390 \r\nQ 3200 3197 3328 2828 \r\nz\r\n\" id=\"DejaVuSans-6d\" transform=\"scale(0.015625)\"/>\r\n      <path d=\"M 1159 525 \r\nL 1159 -1331 \r\nL 581 -1331 \r\nL 581 3500 \r\nL 1159 3500 \r\nL 1159 2969 \r\nQ 1341 3281 1617 3432 \r\nQ 1894 3584 2278 3584 \r\nQ 2916 3584 3314 3078 \r\nQ 3713 2572 3713 1747 \r\nQ 3713 922 3314 415 \r\nQ 2916 -91 2278 -91 \r\nQ 1894 -91 1617 61 \r\nQ 1341 213 1159 525 \r\nz\r\nM 3116 1747 \r\nQ 3116 2381 2855 2742 \r\nQ 2594 3103 2138 3103 \r\nQ 1681 3103 1420 2742 \r\nQ 1159 2381 1159 1747 \r\nQ 1159 1113 1420 752 \r\nQ 1681 391 2138 391 \r\nQ 2594 391 2855 752 \r\nQ 3116 1113 3116 1747 \r\nz\r\n\" id=\"DejaVuSans-70\" transform=\"scale(0.015625)\"/>\r\n     </defs>\r\n     <use xlink:href=\"#DejaVuSans-53\"/>\r\n     <use x=\"63.476562\" xlink:href=\"#DejaVuSans-6f\"/>\r\n     <use x=\"124.658203\" xlink:href=\"#DejaVuSans-75\"/>\r\n     <use x=\"188.037109\" xlink:href=\"#DejaVuSans-74\"/>\r\n     <use x=\"227.246094\" xlink:href=\"#DejaVuSans-68\"/>\r\n     <use x=\"290.625\" xlink:href=\"#DejaVuSans-61\"/>\r\n     <use x=\"351.904297\" xlink:href=\"#DejaVuSans-6d\"/>\r\n     <use x=\"449.316406\" xlink:href=\"#DejaVuSans-70\"/>\r\n     <use x=\"512.792969\" xlink:href=\"#DejaVuSans-74\"/>\r\n     <use x=\"552.001953\" xlink:href=\"#DejaVuSans-6f\"/>\r\n     <use x=\"613.183594\" xlink:href=\"#DejaVuSans-6e\"/>\r\n    </g>\r\n   </g>\r\n  </g>\r\n </g>\r\n <defs>\r\n  <clipPath id=\"p458e75e417\">\r\n   <rect height=\"86.4\" width=\"150.26087\" x=\"33.2875\" y=\"22.318125\"/>\r\n  </clipPath>\r\n  <clipPath id=\"pbb560865f0\">\r\n   <rect height=\"86.4\" width=\"150.26087\" x=\"228.62663\" y=\"22.318125\"/>\r\n  </clipPath>\r\n  <clipPath id=\"p7e8548ff00\">\r\n   <rect height=\"86.4\" width=\"150.26087\" x=\"33.2875\" y=\"151.918125\"/>\r\n  </clipPath>\r\n </defs>\r\n</svg>\r\n",
            "image/png": "[encoded data removed]"
          },
          "metadata": {
            "needs_background": "light"
          }
        }
      ]
    },
    {
      "cell_type": "code",
      "metadata": {
        "id": "6xDvCaTE1zkv"
      },
      "source": [
        "# Hypothese: die Variablen Geschlecht, Klasse und Alter stehen in Zusammenhang mit der Überlebensrate\n",
        "# Hypothese überprüfen: Ist die Abhängigkeit von Embark Town und Überleben kausal oder ist es ein indirekter Zusammenhang aufgrund von Alter, Klasse oder Geschlecht?"
      ],
      "execution_count": null,
      "outputs": []
    },
    {
      "cell_type": "code",
      "metadata": {
        "id": "ylmV4MN_ibYo"
      },
      "source": [
        "# Hypothese: Passagiere aus Cherbourg haben eher überlebt"
      ],
      "execution_count": null,
      "outputs": []
    },
    {
      "cell_type": "code",
      "metadata": {
        "colab": {
          "base_uri": "https://localhost:8080/",
          "height": 204
        },
        "id": "N-66YKeHipYB",
        "outputId": "475ccecd-bf62-4231-b780-24724b10b611"
      },
      "source": [
        "# Überprüfen, was für Passagiere in Cherbourg (Alter, Klasse, Geschlecht) eingestiegen sind\n",
        "# 1: Geschlecht\n",
        "titanic.pivot_table('pclass', 'survived', ['embark_town', 'sex'], aggfunc ='count', margins=True)"
      ],
      "execution_count": 91,
      "outputs": [
        {
          "output_type": "execute_result",
          "data": {
            "text/plain": [
              "embark_town Cherbourg      Queenstown      Southampton       All\n",
              "sex            female male     female male      female male     \n",
              "survived                                                        \n",
              "0                   9   66          9   38          63  364  549\n",
              "1                  64   29         27    3         140   77  340\n",
              "All                73   95         36   41         203  441  889"
            ],
            "text/html": "<div>\n<style scoped>\n    .dataframe tbody tr th:only-of-type {\n        vertical-align: middle;\n    }\n\n    .dataframe tbody tr th {\n        vertical-align: top;\n    }\n\n    .dataframe thead tr th {\n        text-align: left;\n    }\n\n    .dataframe thead tr:last-of-type th {\n        text-align: right;\n    }\n</style>\n<table border=\"1\" class=\"dataframe\">\n  <thead>\n    <tr>\n      <th>embark_town</th>\n      <th colspan=\"2\" halign=\"left\">Cherbourg</th>\n      <th colspan=\"2\" halign=\"left\">Queenstown</th>\n      <th colspan=\"2\" halign=\"left\">Southampton</th>\n      <th>All</th>\n    </tr>\n    <tr>\n      <th>sex</th>\n      <th>female</th>\n      <th>male</th>\n      <th>female</th>\n      <th>male</th>\n      <th>female</th>\n      <th>male</th>\n      <th></th>\n    </tr>\n    <tr>\n      <th>survived</th>\n      <th></th>\n      <th></th>\n      <th></th>\n      <th></th>\n      <th></th>\n      <th></th>\n      <th></th>\n    </tr>\n  </thead>\n  <tbody>\n    <tr>\n      <th>0</th>\n      <td>9</td>\n      <td>66</td>\n      <td>9</td>\n      <td>38</td>\n      <td>63</td>\n      <td>364</td>\n      <td>549</td>\n    </tr>\n    <tr>\n      <th>1</th>\n      <td>64</td>\n      <td>29</td>\n      <td>27</td>\n      <td>3</td>\n      <td>140</td>\n      <td>77</td>\n      <td>340</td>\n    </tr>\n    <tr>\n      <th>All</th>\n      <td>73</td>\n      <td>95</td>\n      <td>36</td>\n      <td>41</td>\n      <td>203</td>\n      <td>441</td>\n      <td>889</td>\n    </tr>\n  </tbody>\n</table>\n</div>"
          },
          "metadata": {},
          "execution_count": 91
        }
      ]
    },
    {
      "cell_type": "code",
      "execution_count": 92,
      "metadata": {},
      "outputs": [],
      "source": [
        "# Frauenanteil an zusteigenden Passagieren kalkulieren\n",
        "def calcFemale(location):\n",
        "    total = titanic[(titanic[\"embarked\"] == location)].count().survived\n",
        "    female = titanic[ (titanic[\"embarked\"] == location) & (titanic[\"sex\"] == \"female\") ].count().survived\n",
        "    return round(female / total,3)"
      ]
    },
    {
      "cell_type": "code",
      "execution_count": 93,
      "metadata": {},
      "outputs": [
        {
          "output_type": "stream",
          "name": "stdout",
          "text": [
            "Female Passangers: \nSouthhampton: 0.315\nCherbourg: 0.435\nQueenstown: 0.468\n"
          ]
        }
      ],
      "source": [
        "# Frauenanteile:\n",
        "print (f'Female Passangers: \\nSouthhampton: {calcFemale(\"S\")}\\nCherbourg: {calcFemale(\"C\")}\\nQueenstown: {calcFemale(\"Q\")}')\n",
        "\n",
        "# Erkentnis: In Cherbourg und Queenstown sind prozentual mehr Frauen als in Southhampton zugestiegen."
      ]
    },
    {
      "cell_type": "code",
      "metadata": {
        "colab": {
          "base_uri": "https://localhost:8080/",
          "height": 297
        },
        "id": "bmx2Yp7JjmM4",
        "outputId": "7332d27f-22f9-4e27-a7bd-1583ae827969"
      },
      "source": [
        "titanic.pivot_table('survived', ['embark_town', 'sex'], margins=True)\n",
        "# Erkentnis: In allen Zustiegsorten war die Überlebensrate der Frauen wesentlich höher als die der Männer."
      ],
      "execution_count": 94,
      "outputs": [
        {
          "output_type": "execute_result",
          "data": {
            "text/plain": [
              "                    survived\n",
              "embark_town sex             \n",
              "Cherbourg   female  0.876712\n",
              "            male    0.305263\n",
              "Queenstown  female  0.750000\n",
              "            male    0.073171\n",
              "Southampton female  0.689655\n",
              "            male    0.174603\n",
              "All                 0.382452"
            ],
            "text/html": "<div>\n<style scoped>\n    .dataframe tbody tr th:only-of-type {\n        vertical-align: middle;\n    }\n\n    .dataframe tbody tr th {\n        vertical-align: top;\n    }\n\n    .dataframe thead th {\n        text-align: right;\n    }\n</style>\n<table border=\"1\" class=\"dataframe\">\n  <thead>\n    <tr style=\"text-align: right;\">\n      <th></th>\n      <th></th>\n      <th>survived</th>\n    </tr>\n    <tr>\n      <th>embark_town</th>\n      <th>sex</th>\n      <th></th>\n    </tr>\n  </thead>\n  <tbody>\n    <tr>\n      <th rowspan=\"2\" valign=\"top\">Cherbourg</th>\n      <th>female</th>\n      <td>0.876712</td>\n    </tr>\n    <tr>\n      <th>male</th>\n      <td>0.305263</td>\n    </tr>\n    <tr>\n      <th rowspan=\"2\" valign=\"top\">Queenstown</th>\n      <th>female</th>\n      <td>0.750000</td>\n    </tr>\n    <tr>\n      <th>male</th>\n      <td>0.073171</td>\n    </tr>\n    <tr>\n      <th rowspan=\"2\" valign=\"top\">Southampton</th>\n      <th>female</th>\n      <td>0.689655</td>\n    </tr>\n    <tr>\n      <th>male</th>\n      <td>0.174603</td>\n    </tr>\n    <tr>\n      <th>All</th>\n      <th></th>\n      <td>0.382452</td>\n    </tr>\n  </tbody>\n</table>\n</div>"
          },
          "metadata": {},
          "execution_count": 94
        }
      ]
    },
    {
      "cell_type": "code",
      "metadata": {
        "id": "B4ZITl_jjt0b"
      },
      "source": [
        "# Annahme: Da in Cherbourg verhältnismäßig viele Frauen zugestiegen sind und Frauen eine höhere Überlebensrate haben, lässt sich die ein Teil der Überlebensrate für Cherbourg hierdurch erklären. \n",
        "# Da in Queenstown die Überlebensrate geringer war, jedoch verhältnismäßig mehr Frauen zugestiegen sind, kann diese Variable allein nicht ausschlaggebend sein."
      ],
      "execution_count": 95,
      "outputs": []
    },
    {
      "cell_type": "code",
      "metadata": {
        "colab": {
          "base_uri": "https://localhost:8080/",
          "height": 204
        },
        "id": "_cfhu5JTjzup",
        "outputId": "4ffd8aba-a669-445d-efd8-fd039422008f"
      },
      "source": [
        "# 2: Gebuchte Klasse\n",
        "titanic.pivot_table('pclass', 'survived', ['embark_town', 'class'], aggfunc ='count', margins=True)"
      ],
      "execution_count": 96,
      "outputs": [
        {
          "output_type": "execute_result",
          "data": {
            "text/plain": [
              "embark_town Cherbourg              Queenstown              Southampton         \\\n",
              "class           First Second Third      First Second Third       First Second   \n",
              "survived                                                                        \n",
              "0                  26      8    41          1      1    45          53     88   \n",
              "1                  59      9    25          1      2    27          74     76   \n",
              "All                85     17    66          2      3    72         127    164   \n",
              "\n",
              "embark_town        All  \n",
              "class       Third       \n",
              "survived                \n",
              "0             286  549  \n",
              "1              67  340  \n",
              "All           353  889  "
            ],
            "text/html": "<div>\n<style scoped>\n    .dataframe tbody tr th:only-of-type {\n        vertical-align: middle;\n    }\n\n    .dataframe tbody tr th {\n        vertical-align: top;\n    }\n\n    .dataframe thead tr th {\n        text-align: left;\n    }\n\n    .dataframe thead tr:last-of-type th {\n        text-align: right;\n    }\n</style>\n<table border=\"1\" class=\"dataframe\">\n  <thead>\n    <tr>\n      <th>embark_town</th>\n      <th colspan=\"3\" halign=\"left\">Cherbourg</th>\n      <th colspan=\"3\" halign=\"left\">Queenstown</th>\n      <th colspan=\"3\" halign=\"left\">Southampton</th>\n      <th>All</th>\n    </tr>\n    <tr>\n      <th>class</th>\n      <th>First</th>\n      <th>Second</th>\n      <th>Third</th>\n      <th>First</th>\n      <th>Second</th>\n      <th>Third</th>\n      <th>First</th>\n      <th>Second</th>\n      <th>Third</th>\n      <th></th>\n    </tr>\n    <tr>\n      <th>survived</th>\n      <th></th>\n      <th></th>\n      <th></th>\n      <th></th>\n      <th></th>\n      <th></th>\n      <th></th>\n      <th></th>\n      <th></th>\n      <th></th>\n    </tr>\n  </thead>\n  <tbody>\n    <tr>\n      <th>0</th>\n      <td>26</td>\n      <td>8</td>\n      <td>41</td>\n      <td>1</td>\n      <td>1</td>\n      <td>45</td>\n      <td>53</td>\n      <td>88</td>\n      <td>286</td>\n      <td>549</td>\n    </tr>\n    <tr>\n      <th>1</th>\n      <td>59</td>\n      <td>9</td>\n      <td>25</td>\n      <td>1</td>\n      <td>2</td>\n      <td>27</td>\n      <td>74</td>\n      <td>76</td>\n      <td>67</td>\n      <td>340</td>\n    </tr>\n    <tr>\n      <th>All</th>\n      <td>85</td>\n      <td>17</td>\n      <td>66</td>\n      <td>2</td>\n      <td>3</td>\n      <td>72</td>\n      <td>127</td>\n      <td>164</td>\n      <td>353</td>\n      <td>889</td>\n    </tr>\n  </tbody>\n</table>\n</div>"
          },
          "metadata": {},
          "execution_count": 96
        }
      ]
    },
    {
      "cell_type": "code",
      "metadata": {
        "colab": {
          "base_uri": "https://localhost:8080/",
          "height": 390
        },
        "id": "yBcFj6R0j7WA",
        "outputId": "6a7fdeb3-b620-4cc4-8350-916b9901f0a4"
      },
      "source": [
        "titanic.pivot_table('survived', ['embark_town', 'class'], margins=True)\n",
        "# Feststellung: Die Überlebensrate der Passagiere in der ersten Klasse ist bei Southhampton und Cherbourg am höchsten.\n",
        "#               Da Queenstown nur 2 Passagiere der ersten Klasse hatte, kann hier keine verlässliche Aussage getroffen werden."
      ],
      "execution_count": 97,
      "outputs": [
        {
          "output_type": "execute_result",
          "data": {
            "text/plain": [
              "                    survived\n",
              "embark_town class           \n",
              "Cherbourg   First   0.694118\n",
              "            Second  0.529412\n",
              "            Third   0.378788\n",
              "Queenstown  First   0.500000\n",
              "            Second  0.666667\n",
              "            Third   0.375000\n",
              "Southampton First   0.582677\n",
              "            Second  0.463415\n",
              "            Third   0.189802\n",
              "All                 0.382452"
            ],
            "text/html": "<div>\n<style scoped>\n    .dataframe tbody tr th:only-of-type {\n        vertical-align: middle;\n    }\n\n    .dataframe tbody tr th {\n        vertical-align: top;\n    }\n\n    .dataframe thead th {\n        text-align: right;\n    }\n</style>\n<table border=\"1\" class=\"dataframe\">\n  <thead>\n    <tr style=\"text-align: right;\">\n      <th></th>\n      <th></th>\n      <th>survived</th>\n    </tr>\n    <tr>\n      <th>embark_town</th>\n      <th>class</th>\n      <th></th>\n    </tr>\n  </thead>\n  <tbody>\n    <tr>\n      <th rowspan=\"3\" valign=\"top\">Cherbourg</th>\n      <th>First</th>\n      <td>0.694118</td>\n    </tr>\n    <tr>\n      <th>Second</th>\n      <td>0.529412</td>\n    </tr>\n    <tr>\n      <th>Third</th>\n      <td>0.378788</td>\n    </tr>\n    <tr>\n      <th rowspan=\"3\" valign=\"top\">Queenstown</th>\n      <th>First</th>\n      <td>0.500000</td>\n    </tr>\n    <tr>\n      <th>Second</th>\n      <td>0.666667</td>\n    </tr>\n    <tr>\n      <th>Third</th>\n      <td>0.375000</td>\n    </tr>\n    <tr>\n      <th rowspan=\"3\" valign=\"top\">Southampton</th>\n      <th>First</th>\n      <td>0.582677</td>\n    </tr>\n    <tr>\n      <th>Second</th>\n      <td>0.463415</td>\n    </tr>\n    <tr>\n      <th>Third</th>\n      <td>0.189802</td>\n    </tr>\n    <tr>\n      <th>All</th>\n      <th></th>\n      <td>0.382452</td>\n    </tr>\n  </tbody>\n</table>\n</div>"
          },
          "metadata": {},
          "execution_count": 97
        }
      ]
    },
    {
      "cell_type": "code",
      "execution_count": 98,
      "metadata": {},
      "outputs": [],
      "source": [
        "# \"Erste Klasse\"-Anteil an zusteigenden Passagieren kalkulieren\n",
        "def calcClass(location, booked):\n",
        "    total = titanic[(titanic[\"embarked\"] == location)].count().survived\n",
        "    firstClass = titanic[ (titanic[\"embarked\"] == location) & (titanic[\"pclass\"] == booked) ].count().survived\n",
        "    return round(firstClass / total,3)"
      ]
    },
    {
      "cell_type": "code",
      "execution_count": 99,
      "metadata": {},
      "outputs": [
        {
          "output_type": "stream",
          "name": "stdout",
          "text": [
            "First Class: \nSouthhampton: 0.197\nCherbourg: 0.506\nQueenstown: 0.026\n\nSecond Class: \nSouthhampton: 0.255\nCherbourg: 0.101\nQueenstown: 0.039\n\nThird Class: \nSouthhampton: 0.548\nCherbourg: 0.393\nQueenstown: 0.935\n\n"
          ]
        }
      ],
      "source": [
        "print (f'First Class: \\nSouthhampton: {calcClass(\"S\", 1)}\\nCherbourg: {calcClass(\"C\", 1)}\\nQueenstown: {calcClass(\"Q\", 1)}\\n')\n",
        "print (f'Second Class: \\nSouthhampton: {calcClass(\"S\", 2)}\\nCherbourg: {calcClass(\"C\", 2)}\\nQueenstown: {calcClass(\"Q\", 2)}\\n')\n",
        "print (f'Third Class: \\nSouthhampton: {calcClass(\"S\", 3)}\\nCherbourg: {calcClass(\"C\", 3)}\\nQueenstown: {calcClass(\"Q\", 3)}\\n')\n",
        "\n",
        "# Erkenntnis: In Cherbourg sind zu über 50% Passagiere der ersten Klasse zugestiegen.\n",
        "\n",
        "# Annahme: Da die Überlebensrate der Passagiere der ersten Klasse am höchsten ist, kann diese Variable ausschlaggebend für das bessere Abschneiden der Überlebensrate von Cherbourg sein.\n",
        "\n",
        "# Notiz: Interessant ist, dass in Queenstown fast nur Passagiere der 3. Klasse zugestiegen sind, jedoch die Überlebensrate knapp höher war als bei Southhampton. Evtl. lässt sich diese kleinere Abweichung durch den höheren Anteil an zugestiegenen weiblichen Passagieren in Queenstown erklären."
      ]
    },
    {
      "cell_type": "code",
      "metadata": {
        "colab": {
          "base_uri": "https://localhost:8080/",
          "height": 221
        },
        "id": "xk0PqamskJqp",
        "outputId": "e9be32ca-9b3e-4348-9f4d-176f84dcf029"
      },
      "source": [
        "# 3: Alter\n",
        "titanic.pivot_table('survived', ['embark_town', 'age2'], margins=True)"
      ],
      "execution_count": 101,
      "outputs": [
        {
          "output_type": "execute_result",
          "data": {
            "text/plain": [
              "                      survived\n",
              "embark_town age2              \n",
              "Cherbourg   (0, 18]   0.714286\n",
              "            (18, 30]  0.586957\n",
              "            (30, 50]  0.585366\n",
              "            (50, 60]  0.666667\n",
              "            (60, 70]  0.000000\n",
              "Queenstown  (0, 18]   0.375000\n",
              "            (18, 30]  0.500000\n",
              "            (30, 50]  0.111111\n",
              "            (50, 60]  0.000000\n",
              "            (60, 70]  0.000000\n",
              "Southampton (0, 18]   0.456311\n",
              "            (18, 30]  0.300926\n",
              "            (30, 50]  0.400000\n",
              "            (50, 60]  0.310345\n",
              "            (60, 70]  0.214286\n",
              "All                   0.405941"
            ],
            "text/html": "<div>\n<style scoped>\n    .dataframe tbody tr th:only-of-type {\n        vertical-align: middle;\n    }\n\n    .dataframe tbody tr th {\n        vertical-align: top;\n    }\n\n    .dataframe thead th {\n        text-align: right;\n    }\n</style>\n<table border=\"1\" class=\"dataframe\">\n  <thead>\n    <tr style=\"text-align: right;\">\n      <th></th>\n      <th></th>\n      <th>survived</th>\n    </tr>\n    <tr>\n      <th>embark_town</th>\n      <th>age2</th>\n      <th></th>\n    </tr>\n  </thead>\n  <tbody>\n    <tr>\n      <th rowspan=\"5\" valign=\"top\">Cherbourg</th>\n      <th>(0, 18]</th>\n      <td>0.714286</td>\n    </tr>\n    <tr>\n      <th>(18, 30]</th>\n      <td>0.586957</td>\n    </tr>\n    <tr>\n      <th>(30, 50]</th>\n      <td>0.585366</td>\n    </tr>\n    <tr>\n      <th>(50, 60]</th>\n      <td>0.666667</td>\n    </tr>\n    <tr>\n      <th>(60, 70]</th>\n      <td>0.000000</td>\n    </tr>\n    <tr>\n      <th rowspan=\"5\" valign=\"top\">Queenstown</th>\n      <th>(0, 18]</th>\n      <td>0.375000</td>\n    </tr>\n    <tr>\n      <th>(18, 30]</th>\n      <td>0.500000</td>\n    </tr>\n    <tr>\n      <th>(30, 50]</th>\n      <td>0.111111</td>\n    </tr>\n    <tr>\n      <th>(50, 60]</th>\n      <td>0.000000</td>\n    </tr>\n    <tr>\n      <th>(60, 70]</th>\n      <td>0.000000</td>\n    </tr>\n    <tr>\n      <th rowspan=\"5\" valign=\"top\">Southampton</th>\n      <th>(0, 18]</th>\n      <td>0.456311</td>\n    </tr>\n    <tr>\n      <th>(18, 30]</th>\n      <td>0.300926</td>\n    </tr>\n    <tr>\n      <th>(30, 50]</th>\n      <td>0.400000</td>\n    </tr>\n    <tr>\n      <th>(50, 60]</th>\n      <td>0.310345</td>\n    </tr>\n    <tr>\n      <th>(60, 70]</th>\n      <td>0.214286</td>\n    </tr>\n    <tr>\n      <th>All</th>\n      <th></th>\n      <td>0.405941</td>\n    </tr>\n  </tbody>\n</table>\n</div>"
          },
          "metadata": {},
          "execution_count": 101
        }
      ]
    },
    {
      "cell_type": "code",
      "metadata": {
        "id": "QkwAdR8kkdKY"
      },
      "source": [
        "titanic.pivot_table('survived', ['embark_town', 'age2'], aggfunc ='count', margins=True)\n",
        "# Erkenntnis: in Cherbourg haben im Verhältnis am meisten Passagiere der Altersklasse 0-18 überlebt, aber Fallzahlen sind zu gering, um nennenswerte Aussage treffen zu können\n",
        "# Erkenntnis (Nach Ansicht in Excel): Für alle Orte sind nur eingeschränkte Altersinformationen gegeben. Informationen über \"adult_male\" sind jedoch vorhanden."
      ],
      "execution_count": 116,
      "outputs": [
        {
          "output_type": "execute_result",
          "data": {
            "text/plain": [
              "                      survived\n",
              "embark_town age2              \n",
              "Cherbourg   (0, 18]         28\n",
              "            (18, 30]        46\n",
              "            (30, 50]        41\n",
              "            (50, 60]        12\n",
              "            (60, 70]         1\n",
              "Queenstown  (0, 18]          8\n",
              "            (18, 30]         8\n",
              "            (30, 50]         9\n",
              "            (50, 60]         1\n",
              "            (60, 70]         1\n",
              "Southampton (0, 18]        103\n",
              "            (18, 30]       216\n",
              "            (30, 50]       190\n",
              "            (50, 60]        29\n",
              "            (60, 70]        14\n",
              "All                        707"
            ],
            "text/html": "<div>\n<style scoped>\n    .dataframe tbody tr th:only-of-type {\n        vertical-align: middle;\n    }\n\n    .dataframe tbody tr th {\n        vertical-align: top;\n    }\n\n    .dataframe thead th {\n        text-align: right;\n    }\n</style>\n<table border=\"1\" class=\"dataframe\">\n  <thead>\n    <tr style=\"text-align: right;\">\n      <th></th>\n      <th></th>\n      <th>survived</th>\n    </tr>\n    <tr>\n      <th>embark_town</th>\n      <th>age2</th>\n      <th></th>\n    </tr>\n  </thead>\n  <tbody>\n    <tr>\n      <th rowspan=\"5\" valign=\"top\">Cherbourg</th>\n      <th>(0, 18]</th>\n      <td>28</td>\n    </tr>\n    <tr>\n      <th>(18, 30]</th>\n      <td>46</td>\n    </tr>\n    <tr>\n      <th>(30, 50]</th>\n      <td>41</td>\n    </tr>\n    <tr>\n      <th>(50, 60]</th>\n      <td>12</td>\n    </tr>\n    <tr>\n      <th>(60, 70]</th>\n      <td>1</td>\n    </tr>\n    <tr>\n      <th rowspan=\"5\" valign=\"top\">Queenstown</th>\n      <th>(0, 18]</th>\n      <td>8</td>\n    </tr>\n    <tr>\n      <th>(18, 30]</th>\n      <td>8</td>\n    </tr>\n    <tr>\n      <th>(30, 50]</th>\n      <td>9</td>\n    </tr>\n    <tr>\n      <th>(50, 60]</th>\n      <td>1</td>\n    </tr>\n    <tr>\n      <th>(60, 70]</th>\n      <td>1</td>\n    </tr>\n    <tr>\n      <th rowspan=\"5\" valign=\"top\">Southampton</th>\n      <th>(0, 18]</th>\n      <td>103</td>\n    </tr>\n    <tr>\n      <th>(18, 30]</th>\n      <td>216</td>\n    </tr>\n    <tr>\n      <th>(30, 50]</th>\n      <td>190</td>\n    </tr>\n    <tr>\n      <th>(50, 60]</th>\n      <td>29</td>\n    </tr>\n    <tr>\n      <th>(60, 70]</th>\n      <td>14</td>\n    </tr>\n    <tr>\n      <th>All</th>\n      <th></th>\n      <td>707</td>\n    </tr>\n  </tbody>\n</table>\n</div>"
          },
          "metadata": {},
          "execution_count": 116
        }
      ]
    },
    {
      "cell_type": "code",
      "execution_count": 133,
      "metadata": {},
      "outputs": [
        {
          "output_type": "stream",
          "name": "stdout",
          "text": [
            "Adult Males: \nSouthhampton: 0.637\nCherbourg: 0.536\nQueenstown: 0.481 \n\nAdult male survival rate total: 0.16387337057728119 \n\nOthers survival rate total: 0.7175141242937854 \n\nRich male survival rate total: 0.35294117647058826 \n\n"
          ]
        },
        {
          "output_type": "execute_result",
          "data": {
            "text/plain": [
              "                        survived\n",
              "embark_town adult_male          \n",
              "Cherbourg   False       0.858974\n",
              "            True        0.288889\n",
              "Queenstown  False       0.675000\n",
              "            True        0.081081\n",
              "Southampton False       0.675214\n",
              "            True        0.143902\n",
              "All                     0.382452"
            ],
            "text/html": "<div>\n<style scoped>\n    .dataframe tbody tr th:only-of-type {\n        vertical-align: middle;\n    }\n\n    .dataframe tbody tr th {\n        vertical-align: top;\n    }\n\n    .dataframe thead th {\n        text-align: right;\n    }\n</style>\n<table border=\"1\" class=\"dataframe\">\n  <thead>\n    <tr style=\"text-align: right;\">\n      <th></th>\n      <th></th>\n      <th>survived</th>\n    </tr>\n    <tr>\n      <th>embark_town</th>\n      <th>adult_male</th>\n      <th></th>\n    </tr>\n  </thead>\n  <tbody>\n    <tr>\n      <th rowspan=\"2\" valign=\"top\">Cherbourg</th>\n      <th>False</th>\n      <td>0.858974</td>\n    </tr>\n    <tr>\n      <th>True</th>\n      <td>0.288889</td>\n    </tr>\n    <tr>\n      <th rowspan=\"2\" valign=\"top\">Queenstown</th>\n      <th>False</th>\n      <td>0.675000</td>\n    </tr>\n    <tr>\n      <th>True</th>\n      <td>0.081081</td>\n    </tr>\n    <tr>\n      <th rowspan=\"2\" valign=\"top\">Southampton</th>\n      <th>False</th>\n      <td>0.675214</td>\n    </tr>\n    <tr>\n      <th>True</th>\n      <td>0.143902</td>\n    </tr>\n    <tr>\n      <th>All</th>\n      <th></th>\n      <td>0.382452</td>\n    </tr>\n  </tbody>\n</table>\n</div>"
          },
          "metadata": {},
          "execution_count": 133
        }
      ],
      "source": [
        "# Überprüfen eines kombinierten Alter / Geschlecht Merkmals:\n",
        "\n",
        "def calcAdultMale (location):\n",
        "    total = titanic[(titanic[\"embarked\"] == location)].count().survived\n",
        "    adultMale = titanic[ (titanic[\"embarked\"] == location) & (titanic[\"adult_male\"] == True) ].count().survived\n",
        "    return round(adultMale / total,3)\n",
        "\n",
        "print (f'Adult Males: \\nSouthhampton: {calcAdultMale(\"S\")}\\nCherbourg: {calcAdultMale(\"C\")}\\nQueenstown: {calcAdultMale(\"Q\")} \\n')\n",
        "\n",
        "adultMaleSurvivors = titanic[(titanic[\"adult_male\"] == True) & (titanic[\"survived\"] == 1)].survived.count()\n",
        "adultMaleTotal = titanic[(titanic[\"adult_male\"] == True)].survived.count()\n",
        "\n",
        "adultRichMaleSurvivors = titanic[(titanic[\"adult_male\"] == True) & (titanic[\"survived\"] == 1) & (titanic[\"pclass\"] == 1)].survived.count()\n",
        "adultRichMaleTotal = titanic[(titanic[\"adult_male\"] == True)  & (titanic[\"pclass\"] == 1)].survived.count()\n",
        "\n",
        "otherSurvivors = titanic[(titanic[\"adult_male\"] == False) & (titanic[\"survived\"] == 1)].survived.count()\n",
        "otherTotal = titanic[(titanic[\"adult_male\"] == False)].survived.count()\n",
        "\n",
        "print (f'Adult male survival rate total: { adultMaleSurvivors / adultMaleTotal } \\n')\n",
        "print (f'Others survival rate total: { otherSurvivors / otherTotal } \\n')\n",
        "print (f'Rich male survival rate total: { adultRichMaleSurvivors / adultRichMaleTotal } \\n')\n",
        "\n",
        "titanic.pivot_table('survived', ['embark_town', 'adult_male'], margins=True)\n",
        "\n",
        "# Erkenntnis: In Southampton sind mehr männliche Erwachsene zugestiegen. Die Überlebensrate der männlichen Erwachsenen ist gesamt betrachtet wesentlich geringer als die des Rests. Auch dies kann zu der niedrigen Überlebensrate von Southhampton beigetragen haben."
      ]
    },
    {
      "cell_type": "code",
      "metadata": {
        "colab": {
          "base_uri": "https://localhost:8080/",
          "height": 235
        },
        "id": "LQk3muVUlpWr",
        "outputId": "1084f0f7-6494-4aee-a980-36a112829dd6"
      },
      "source": [
        "# Übersicht\n",
        "titanic.pivot_table('pclass', 'survived', ['embark_town', 'class', 'sex'], aggfunc ='count', margins=True)"
      ],
      "execution_count": 82,
      "outputs": [
        {
          "output_type": "execute_result",
          "data": {
            "text/plain": [
              "embark_town Cherbourg                                 Queenstown              \\\n",
              "class           First       Second        Third            First      Second   \n",
              "sex            female  male female  male female  male     female male female   \n",
              "survived                                                                       \n",
              "0                 1.0  25.0    NaN   8.0    8.0  33.0        NaN  1.0    NaN   \n",
              "1                42.0  17.0    7.0   2.0   15.0  10.0        1.0  NaN    2.0   \n",
              "All              43.0  42.0    7.0  10.0   23.0  43.0        1.0  1.0    2.0   \n",
              "\n",
              "embark_town                   Southampton                                   \\\n",
              "class             Third             First       Second        Third          \n",
              "sex         male female  male      female  male female  male female   male   \n",
              "survived                                                                     \n",
              "0            1.0    9.0  36.0         2.0  51.0    6.0  82.0   55.0  231.0   \n",
              "1            NaN   24.0   3.0        46.0  28.0   61.0  15.0   33.0   34.0   \n",
              "All          1.0   33.0  39.0        48.0  79.0   67.0  97.0   88.0  265.0   \n",
              "\n",
              "embark_town  All  \n",
              "class             \n",
              "sex               \n",
              "survived          \n",
              "0            549  \n",
              "1            340  \n",
              "All          889  "
            ],
            "text/html": "<div>\n<style scoped>\n    .dataframe tbody tr th:only-of-type {\n        vertical-align: middle;\n    }\n\n    .dataframe tbody tr th {\n        vertical-align: top;\n    }\n\n    .dataframe thead tr th {\n        text-align: left;\n    }\n\n    .dataframe thead tr:last-of-type th {\n        text-align: right;\n    }\n</style>\n<table border=\"1\" class=\"dataframe\">\n  <thead>\n    <tr>\n      <th>embark_town</th>\n      <th colspan=\"6\" halign=\"left\">Cherbourg</th>\n      <th colspan=\"6\" halign=\"left\">Queenstown</th>\n      <th colspan=\"6\" halign=\"left\">Southampton</th>\n      <th>All</th>\n    </tr>\n    <tr>\n      <th>class</th>\n      <th colspan=\"2\" halign=\"left\">First</th>\n      <th colspan=\"2\" halign=\"left\">Second</th>\n      <th colspan=\"2\" halign=\"left\">Third</th>\n      <th colspan=\"2\" halign=\"left\">First</th>\n      <th colspan=\"2\" halign=\"left\">Second</th>\n      <th colspan=\"2\" halign=\"left\">Third</th>\n      <th colspan=\"2\" halign=\"left\">First</th>\n      <th colspan=\"2\" halign=\"left\">Second</th>\n      <th colspan=\"2\" halign=\"left\">Third</th>\n      <th></th>\n    </tr>\n    <tr>\n      <th>sex</th>\n      <th>female</th>\n      <th>male</th>\n      <th>female</th>\n      <th>male</th>\n      <th>female</th>\n      <th>male</th>\n      <th>female</th>\n      <th>male</th>\n      <th>female</th>\n      <th>male</th>\n      <th>female</th>\n      <th>male</th>\n      <th>female</th>\n      <th>male</th>\n      <th>female</th>\n      <th>male</th>\n      <th>female</th>\n      <th>male</th>\n      <th></th>\n    </tr>\n    <tr>\n      <th>survived</th>\n      <th></th>\n      <th></th>\n      <th></th>\n      <th></th>\n      <th></th>\n      <th></th>\n      <th></th>\n      <th></th>\n      <th></th>\n      <th></th>\n      <th></th>\n      <th></th>\n      <th></th>\n      <th></th>\n      <th></th>\n      <th></th>\n      <th></th>\n      <th></th>\n      <th></th>\n    </tr>\n  </thead>\n  <tbody>\n    <tr>\n      <th>0</th>\n      <td>1.0</td>\n      <td>25.0</td>\n      <td>NaN</td>\n      <td>8.0</td>\n      <td>8.0</td>\n      <td>33.0</td>\n      <td>NaN</td>\n      <td>1.0</td>\n      <td>NaN</td>\n      <td>1.0</td>\n      <td>9.0</td>\n      <td>36.0</td>\n      <td>2.0</td>\n      <td>51.0</td>\n      <td>6.0</td>\n      <td>82.0</td>\n      <td>55.0</td>\n      <td>231.0</td>\n      <td>549</td>\n    </tr>\n    <tr>\n      <th>1</th>\n      <td>42.0</td>\n      <td>17.0</td>\n      <td>7.0</td>\n      <td>2.0</td>\n      <td>15.0</td>\n      <td>10.0</td>\n      <td>1.0</td>\n      <td>NaN</td>\n      <td>2.0</td>\n      <td>NaN</td>\n      <td>24.0</td>\n      <td>3.0</td>\n      <td>46.0</td>\n      <td>28.0</td>\n      <td>61.0</td>\n      <td>15.0</td>\n      <td>33.0</td>\n      <td>34.0</td>\n      <td>340</td>\n    </tr>\n    <tr>\n      <th>All</th>\n      <td>43.0</td>\n      <td>42.0</td>\n      <td>7.0</td>\n      <td>10.0</td>\n      <td>23.0</td>\n      <td>43.0</td>\n      <td>1.0</td>\n      <td>1.0</td>\n      <td>2.0</td>\n      <td>1.0</td>\n      <td>33.0</td>\n      <td>39.0</td>\n      <td>48.0</td>\n      <td>79.0</td>\n      <td>67.0</td>\n      <td>97.0</td>\n      <td>88.0</td>\n      <td>265.0</td>\n      <td>889</td>\n    </tr>\n  </tbody>\n</table>\n</div>"
          },
          "metadata": {},
          "execution_count": 82
        }
      ]
    },
    {
      "cell_type": "markdown",
      "metadata": {
        "id": "ryonXCJrr5vp"
      },
      "source": [
        "Ergebnis: Aufgrund der Zusammenhänge zwischen Klasse und Geschlecht mit der Überlebensrate und dem Embark Town kann davon ausgegangen werden, dass der Zusammenhang zwischen Embark Town und Überlebensrate durch den Zusammenhang zwischen Klasse und Überlebensrate bzw. Geschlecht und Überlebensrate beschrieben werden kann."
      ]
    }
  ]
}