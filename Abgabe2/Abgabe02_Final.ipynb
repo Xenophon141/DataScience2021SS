{
 "cells": [
  {
   "cell_type": "markdown",
   "metadata": {},
   "source": [
    "# Abgabe 02 - Team 08"
   ]
  },
  {
   "cell_type": "markdown",
   "metadata": {},
   "source": [
    "Importieren der verwendeten Bibliotheken:"
   ]
  },
  {
   "cell_type": "code",
   "execution_count": 1,
   "metadata": {},
   "outputs": [],
   "source": [
    "import numpy as np\n",
    "import matplotlib.pyplot as plt\n",
    "import pandas as pd\n",
    "import os"
   ]
  },
  {
   "cell_type": "markdown",
   "metadata": {},
   "source": [
    "Tabellen laden:"
   ]
  },
  {
   "cell_type": "code",
   "execution_count": 2,
   "metadata": {},
   "outputs": [],
   "source": [
    "opt = pd.read_csv('order_products__train.csv') # Current order\n",
    "opp = pd.read_csv('order_products__prior.csv') # Old orders\n",
    "op = pd.concat([opt, opp], ignore_index=True)\n",
    "products = pd.read_csv('products.csv')\n",
    "orders = pd.read_csv('orders.csv')"
   ]
  },
  {
   "cell_type": "markdown",
   "metadata": {},
   "source": [
    "### Aufgabe1"
   ]
  },
  {
   "cell_type": "markdown",
   "metadata": {},
   "source": [
    "Zu aller erst wollen wir einen Überblick über die Orders-Tabelle und deren zugehörigen Spalten bekommen:"
   ]
  },
  {
   "cell_type": "code",
   "execution_count": 3,
   "metadata": {},
   "outputs": [
    {
     "output_type": "execute_result",
     "data": {
      "text/plain": [
       "   order_id  user_id eval_set  order_number  order_dow  order_hour_of_day  \\\n",
       "0   2539329        1    prior             1          2                  8   \n",
       "1   2398795        1    prior             2          3                  7   \n",
       "2    473747        1    prior             3          3                 12   \n",
       "3   2254736        1    prior             4          4                  7   \n",
       "4    431534        1    prior             5          4                 15   \n",
       "\n",
       "   days_since_prior_order  \n",
       "0                     NaN  \n",
       "1                    15.0  \n",
       "2                    21.0  \n",
       "3                    29.0  \n",
       "4                    28.0  "
      ],
      "text/html": "<div>\n<style scoped>\n    .dataframe tbody tr th:only-of-type {\n        vertical-align: middle;\n    }\n\n    .dataframe tbody tr th {\n        vertical-align: top;\n    }\n\n    .dataframe thead th {\n        text-align: right;\n    }\n</style>\n<table border=\"1\" class=\"dataframe\">\n  <thead>\n    <tr style=\"text-align: right;\">\n      <th></th>\n      <th>order_id</th>\n      <th>user_id</th>\n      <th>eval_set</th>\n      <th>order_number</th>\n      <th>order_dow</th>\n      <th>order_hour_of_day</th>\n      <th>days_since_prior_order</th>\n    </tr>\n  </thead>\n  <tbody>\n    <tr>\n      <th>0</th>\n      <td>2539329</td>\n      <td>1</td>\n      <td>prior</td>\n      <td>1</td>\n      <td>2</td>\n      <td>8</td>\n      <td>NaN</td>\n    </tr>\n    <tr>\n      <th>1</th>\n      <td>2398795</td>\n      <td>1</td>\n      <td>prior</td>\n      <td>2</td>\n      <td>3</td>\n      <td>7</td>\n      <td>15.0</td>\n    </tr>\n    <tr>\n      <th>2</th>\n      <td>473747</td>\n      <td>1</td>\n      <td>prior</td>\n      <td>3</td>\n      <td>3</td>\n      <td>12</td>\n      <td>21.0</td>\n    </tr>\n    <tr>\n      <th>3</th>\n      <td>2254736</td>\n      <td>1</td>\n      <td>prior</td>\n      <td>4</td>\n      <td>4</td>\n      <td>7</td>\n      <td>29.0</td>\n    </tr>\n    <tr>\n      <th>4</th>\n      <td>431534</td>\n      <td>1</td>\n      <td>prior</td>\n      <td>5</td>\n      <td>4</td>\n      <td>15</td>\n      <td>28.0</td>\n    </tr>\n  </tbody>\n</table>\n</div>"
     },
     "metadata": {},
     "execution_count": 3
    }
   ],
   "source": [
    "orders.head()"
   ]
  },
  {
   "cell_type": "markdown",
   "metadata": {},
   "source": [
    "Wir wollen eine Kopie der Orders-Tabelle als Hilfstabelle. Die Hilfstabelle soll den Durchschnitt der days_since_prior_order je Nutzer (user_id) anzeigen:"
   ]
  },
  {
   "cell_type": "code",
   "execution_count": 8,
   "metadata": {},
   "outputs": [
    {
     "output_type": "execute_result",
     "data": {
      "text/plain": [
       "             order_id  order_number  order_dow  order_hour_of_day  \\\n",
       "user_id                                                             \n",
       "1        1.923450e+06           6.0   2.636364          10.090909   \n",
       "2        1.768105e+06           8.0   2.066667          10.600000   \n",
       "3        1.934104e+06           7.0   1.384615          16.307692   \n",
       "4        1.507835e+06           3.5   4.500000          12.500000   \n",
       "5        1.849579e+06           3.0   1.400000          15.000000   \n",
       "\n",
       "         days_since_prior_order  \n",
       "user_id                          \n",
       "1                     19.000000  \n",
       "2                     16.285714  \n",
       "3                     12.000000  \n",
       "4                     17.000000  \n",
       "5                     11.500000  "
      ],
      "text/html": "<div>\n<style scoped>\n    .dataframe tbody tr th:only-of-type {\n        vertical-align: middle;\n    }\n\n    .dataframe tbody tr th {\n        vertical-align: top;\n    }\n\n    .dataframe thead th {\n        text-align: right;\n    }\n</style>\n<table border=\"1\" class=\"dataframe\">\n  <thead>\n    <tr style=\"text-align: right;\">\n      <th></th>\n      <th>order_id</th>\n      <th>order_number</th>\n      <th>order_dow</th>\n      <th>order_hour_of_day</th>\n      <th>days_since_prior_order</th>\n    </tr>\n    <tr>\n      <th>user_id</th>\n      <th></th>\n      <th></th>\n      <th></th>\n      <th></th>\n      <th></th>\n    </tr>\n  </thead>\n  <tbody>\n    <tr>\n      <th>1</th>\n      <td>1.923450e+06</td>\n      <td>6.0</td>\n      <td>2.636364</td>\n      <td>10.090909</td>\n      <td>19.000000</td>\n    </tr>\n    <tr>\n      <th>2</th>\n      <td>1.768105e+06</td>\n      <td>8.0</td>\n      <td>2.066667</td>\n      <td>10.600000</td>\n      <td>16.285714</td>\n    </tr>\n    <tr>\n      <th>3</th>\n      <td>1.934104e+06</td>\n      <td>7.0</td>\n      <td>1.384615</td>\n      <td>16.307692</td>\n      <td>12.000000</td>\n    </tr>\n    <tr>\n      <th>4</th>\n      <td>1.507835e+06</td>\n      <td>3.5</td>\n      <td>4.500000</td>\n      <td>12.500000</td>\n      <td>17.000000</td>\n    </tr>\n    <tr>\n      <th>5</th>\n      <td>1.849579e+06</td>\n      <td>3.0</td>\n      <td>1.400000</td>\n      <td>15.000000</td>\n      <td>11.500000</td>\n    </tr>\n  </tbody>\n</table>\n</div>"
     },
     "metadata": {},
     "execution_count": 8
    }
   ],
   "source": [
    "mean_days_since_prior_order = orders.groupby('user_id').mean()\n",
    "mean_days_since_prior_order.head()"
   ]
  },
  {
   "cell_type": "markdown",
   "metadata": {},
   "source": [
    "Bevor wir die Durchschnittswerte der Hilfstabelle zu unserem ursprünglichen Dataframe (orders) hinzufügen können, müssen wir die betreffende Spalte distinct benennen und den Index resetten:"
   ]
  },
  {
   "cell_type": "code",
   "execution_count": 9,
   "metadata": {},
   "outputs": [],
   "source": [
    "mean_days_since_prior_order.rename(columns = {'days_since_prior_order': 'mean_days_since_prior_order'}, inplace = True)"
   ]
  },
  {
   "cell_type": "code",
   "execution_count": 10,
   "metadata": {},
   "outputs": [
    {
     "output_type": "execute_result",
     "data": {
      "text/plain": [
       "   user_id      order_id  order_number  order_dow  order_hour_of_day  \\\n",
       "0        1  1.923450e+06           6.0   2.636364          10.090909   \n",
       "1        2  1.768105e+06           8.0   2.066667          10.600000   \n",
       "2        3  1.934104e+06           7.0   1.384615          16.307692   \n",
       "3        4  1.507835e+06           3.5   4.500000          12.500000   \n",
       "4        5  1.849579e+06           3.0   1.400000          15.000000   \n",
       "\n",
       "   mean_days_since_prior_order  \n",
       "0                    19.000000  \n",
       "1                    16.285714  \n",
       "2                    12.000000  \n",
       "3                    17.000000  \n",
       "4                    11.500000  "
      ],
      "text/html": "<div>\n<style scoped>\n    .dataframe tbody tr th:only-of-type {\n        vertical-align: middle;\n    }\n\n    .dataframe tbody tr th {\n        vertical-align: top;\n    }\n\n    .dataframe thead th {\n        text-align: right;\n    }\n</style>\n<table border=\"1\" class=\"dataframe\">\n  <thead>\n    <tr style=\"text-align: right;\">\n      <th></th>\n      <th>user_id</th>\n      <th>order_id</th>\n      <th>order_number</th>\n      <th>order_dow</th>\n      <th>order_hour_of_day</th>\n      <th>mean_days_since_prior_order</th>\n    </tr>\n  </thead>\n  <tbody>\n    <tr>\n      <th>0</th>\n      <td>1</td>\n      <td>1.923450e+06</td>\n      <td>6.0</td>\n      <td>2.636364</td>\n      <td>10.090909</td>\n      <td>19.000000</td>\n    </tr>\n    <tr>\n      <th>1</th>\n      <td>2</td>\n      <td>1.768105e+06</td>\n      <td>8.0</td>\n      <td>2.066667</td>\n      <td>10.600000</td>\n      <td>16.285714</td>\n    </tr>\n    <tr>\n      <th>2</th>\n      <td>3</td>\n      <td>1.934104e+06</td>\n      <td>7.0</td>\n      <td>1.384615</td>\n      <td>16.307692</td>\n      <td>12.000000</td>\n    </tr>\n    <tr>\n      <th>3</th>\n      <td>4</td>\n      <td>1.507835e+06</td>\n      <td>3.5</td>\n      <td>4.500000</td>\n      <td>12.500000</td>\n      <td>17.000000</td>\n    </tr>\n    <tr>\n      <th>4</th>\n      <td>5</td>\n      <td>1.849579e+06</td>\n      <td>3.0</td>\n      <td>1.400000</td>\n      <td>15.000000</td>\n      <td>11.500000</td>\n    </tr>\n  </tbody>\n</table>\n</div>"
     },
     "metadata": {},
     "execution_count": 10
    }
   ],
   "source": [
    "mean_days_since_prior_order = mean_days_since_prior_order.reset_index()\n",
    "mean_days_since_prior_order.head()"
   ]
  },
  {
   "cell_type": "markdown",
   "metadata": {},
   "source": [
    "Jetzt können wir die Spalte an den ursprünglichen Dataframe anfügen:"
   ]
  },
  {
   "cell_type": "code",
   "execution_count": 11,
   "metadata": {},
   "outputs": [
    {
     "output_type": "execute_result",
     "data": {
      "text/plain": [
       "   user_id  mean_days_since_prior_order  order_id eval_set  order_number  \\\n",
       "0        1                         19.0   2539329    prior             1   \n",
       "1        1                         19.0   2398795    prior             2   \n",
       "2        1                         19.0    473747    prior             3   \n",
       "3        1                         19.0   2254736    prior             4   \n",
       "4        1                         19.0    431534    prior             5   \n",
       "\n",
       "   order_dow  order_hour_of_day  days_since_prior_order  \n",
       "0          2                  8                     NaN  \n",
       "1          3                  7                    15.0  \n",
       "2          3                 12                    21.0  \n",
       "3          4                  7                    29.0  \n",
       "4          4                 15                    28.0  "
      ],
      "text/html": "<div>\n<style scoped>\n    .dataframe tbody tr th:only-of-type {\n        vertical-align: middle;\n    }\n\n    .dataframe tbody tr th {\n        vertical-align: top;\n    }\n\n    .dataframe thead th {\n        text-align: right;\n    }\n</style>\n<table border=\"1\" class=\"dataframe\">\n  <thead>\n    <tr style=\"text-align: right;\">\n      <th></th>\n      <th>user_id</th>\n      <th>mean_days_since_prior_order</th>\n      <th>order_id</th>\n      <th>eval_set</th>\n      <th>order_number</th>\n      <th>order_dow</th>\n      <th>order_hour_of_day</th>\n      <th>days_since_prior_order</th>\n    </tr>\n  </thead>\n  <tbody>\n    <tr>\n      <th>0</th>\n      <td>1</td>\n      <td>19.0</td>\n      <td>2539329</td>\n      <td>prior</td>\n      <td>1</td>\n      <td>2</td>\n      <td>8</td>\n      <td>NaN</td>\n    </tr>\n    <tr>\n      <th>1</th>\n      <td>1</td>\n      <td>19.0</td>\n      <td>2398795</td>\n      <td>prior</td>\n      <td>2</td>\n      <td>3</td>\n      <td>7</td>\n      <td>15.0</td>\n    </tr>\n    <tr>\n      <th>2</th>\n      <td>1</td>\n      <td>19.0</td>\n      <td>473747</td>\n      <td>prior</td>\n      <td>3</td>\n      <td>3</td>\n      <td>12</td>\n      <td>21.0</td>\n    </tr>\n    <tr>\n      <th>3</th>\n      <td>1</td>\n      <td>19.0</td>\n      <td>2254736</td>\n      <td>prior</td>\n      <td>4</td>\n      <td>4</td>\n      <td>7</td>\n      <td>29.0</td>\n    </tr>\n    <tr>\n      <th>4</th>\n      <td>1</td>\n      <td>19.0</td>\n      <td>431534</td>\n      <td>prior</td>\n      <td>5</td>\n      <td>4</td>\n      <td>15</td>\n      <td>28.0</td>\n    </tr>\n  </tbody>\n</table>\n</div>"
     },
     "metadata": {},
     "execution_count": 11
    }
   ],
   "source": [
    "orders = pd.merge(mean_days_since_prior_order[['user_id','mean_days_since_prior_order']],orders)\n",
    "orders.head()"
   ]
  },
  {
   "cell_type": "markdown",
   "metadata": {},
   "source": [
    "Jetzt können wir die Spalte 'factor' berechnen und uns die ersten 20 Zeilen des Dataframes anzeigen lassen:"
   ]
  },
  {
   "cell_type": "code",
   "execution_count": 12,
   "metadata": {},
   "outputs": [],
   "source": [
    "orders['factor'] = orders['days_since_prior_order']/orders['mean_days_since_prior_order']"
   ]
  },
  {
   "cell_type": "code",
   "execution_count": 13,
   "metadata": {},
   "outputs": [
    {
     "output_type": "execute_result",
     "data": {
      "text/plain": [
       "    user_id  mean_days_since_prior_order  order_id eval_set  order_number  \\\n",
       "0         1                    19.000000   2539329    prior             1   \n",
       "1         1                    19.000000   2398795    prior             2   \n",
       "2         1                    19.000000    473747    prior             3   \n",
       "3         1                    19.000000   2254736    prior             4   \n",
       "4         1                    19.000000    431534    prior             5   \n",
       "5         1                    19.000000   3367565    prior             6   \n",
       "6         1                    19.000000    550135    prior             7   \n",
       "7         1                    19.000000   3108588    prior             8   \n",
       "8         1                    19.000000   2295261    prior             9   \n",
       "9         1                    19.000000   2550362    prior            10   \n",
       "10        1                    19.000000   1187899    train            11   \n",
       "11        2                    16.285714   2168274    prior             1   \n",
       "12        2                    16.285714   1501582    prior             2   \n",
       "13        2                    16.285714   1901567    prior             3   \n",
       "14        2                    16.285714    738281    prior             4   \n",
       "15        2                    16.285714   1673511    prior             5   \n",
       "16        2                    16.285714   1199898    prior             6   \n",
       "17        2                    16.285714   3194192    prior             7   \n",
       "18        2                    16.285714    788338    prior             8   \n",
       "19        2                    16.285714   1718559    prior             9   \n",
       "\n",
       "    order_dow  order_hour_of_day  days_since_prior_order    factor  \n",
       "0           2                  8                     NaN       NaN  \n",
       "1           3                  7                    15.0  0.789474  \n",
       "2           3                 12                    21.0  1.105263  \n",
       "3           4                  7                    29.0  1.526316  \n",
       "4           4                 15                    28.0  1.473684  \n",
       "5           2                  7                    19.0  1.000000  \n",
       "6           1                  9                    20.0  1.052632  \n",
       "7           1                 14                    14.0  0.736842  \n",
       "8           1                 16                     0.0  0.000000  \n",
       "9           4                  8                    30.0  1.578947  \n",
       "10          4                  8                    14.0  0.736842  \n",
       "11          2                 11                     NaN       NaN  \n",
       "12          5                 10                    10.0  0.614035  \n",
       "13          1                 10                     3.0  0.184211  \n",
       "14          2                 10                     8.0  0.491228  \n",
       "15          3                 11                     8.0  0.491228  \n",
       "16          2                  9                    13.0  0.798246  \n",
       "17          2                 12                    14.0  0.859649  \n",
       "18          1                 15                    27.0  1.657895  \n",
       "19          2                  9                     8.0  0.491228  "
      ],
      "text/html": "<div>\n<style scoped>\n    .dataframe tbody tr th:only-of-type {\n        vertical-align: middle;\n    }\n\n    .dataframe tbody tr th {\n        vertical-align: top;\n    }\n\n    .dataframe thead th {\n        text-align: right;\n    }\n</style>\n<table border=\"1\" class=\"dataframe\">\n  <thead>\n    <tr style=\"text-align: right;\">\n      <th></th>\n      <th>user_id</th>\n      <th>mean_days_since_prior_order</th>\n      <th>order_id</th>\n      <th>eval_set</th>\n      <th>order_number</th>\n      <th>order_dow</th>\n      <th>order_hour_of_day</th>\n      <th>days_since_prior_order</th>\n      <th>factor</th>\n    </tr>\n  </thead>\n  <tbody>\n    <tr>\n      <th>0</th>\n      <td>1</td>\n      <td>19.000000</td>\n      <td>2539329</td>\n      <td>prior</td>\n      <td>1</td>\n      <td>2</td>\n      <td>8</td>\n      <td>NaN</td>\n      <td>NaN</td>\n    </tr>\n    <tr>\n      <th>1</th>\n      <td>1</td>\n      <td>19.000000</td>\n      <td>2398795</td>\n      <td>prior</td>\n      <td>2</td>\n      <td>3</td>\n      <td>7</td>\n      <td>15.0</td>\n      <td>0.789474</td>\n    </tr>\n    <tr>\n      <th>2</th>\n      <td>1</td>\n      <td>19.000000</td>\n      <td>473747</td>\n      <td>prior</td>\n      <td>3</td>\n      <td>3</td>\n      <td>12</td>\n      <td>21.0</td>\n      <td>1.105263</td>\n    </tr>\n    <tr>\n      <th>3</th>\n      <td>1</td>\n      <td>19.000000</td>\n      <td>2254736</td>\n      <td>prior</td>\n      <td>4</td>\n      <td>4</td>\n      <td>7</td>\n      <td>29.0</td>\n      <td>1.526316</td>\n    </tr>\n    <tr>\n      <th>4</th>\n      <td>1</td>\n      <td>19.000000</td>\n      <td>431534</td>\n      <td>prior</td>\n      <td>5</td>\n      <td>4</td>\n      <td>15</td>\n      <td>28.0</td>\n      <td>1.473684</td>\n    </tr>\n    <tr>\n      <th>5</th>\n      <td>1</td>\n      <td>19.000000</td>\n      <td>3367565</td>\n      <td>prior</td>\n      <td>6</td>\n      <td>2</td>\n      <td>7</td>\n      <td>19.0</td>\n      <td>1.000000</td>\n    </tr>\n    <tr>\n      <th>6</th>\n      <td>1</td>\n      <td>19.000000</td>\n      <td>550135</td>\n      <td>prior</td>\n      <td>7</td>\n      <td>1</td>\n      <td>9</td>\n      <td>20.0</td>\n      <td>1.052632</td>\n    </tr>\n    <tr>\n      <th>7</th>\n      <td>1</td>\n      <td>19.000000</td>\n      <td>3108588</td>\n      <td>prior</td>\n      <td>8</td>\n      <td>1</td>\n      <td>14</td>\n      <td>14.0</td>\n      <td>0.736842</td>\n    </tr>\n    <tr>\n      <th>8</th>\n      <td>1</td>\n      <td>19.000000</td>\n      <td>2295261</td>\n      <td>prior</td>\n      <td>9</td>\n      <td>1</td>\n      <td>16</td>\n      <td>0.0</td>\n      <td>0.000000</td>\n    </tr>\n    <tr>\n      <th>9</th>\n      <td>1</td>\n      <td>19.000000</td>\n      <td>2550362</td>\n      <td>prior</td>\n      <td>10</td>\n      <td>4</td>\n      <td>8</td>\n      <td>30.0</td>\n      <td>1.578947</td>\n    </tr>\n    <tr>\n      <th>10</th>\n      <td>1</td>\n      <td>19.000000</td>\n      <td>1187899</td>\n      <td>train</td>\n      <td>11</td>\n      <td>4</td>\n      <td>8</td>\n      <td>14.0</td>\n      <td>0.736842</td>\n    </tr>\n    <tr>\n      <th>11</th>\n      <td>2</td>\n      <td>16.285714</td>\n      <td>2168274</td>\n      <td>prior</td>\n      <td>1</td>\n      <td>2</td>\n      <td>11</td>\n      <td>NaN</td>\n      <td>NaN</td>\n    </tr>\n    <tr>\n      <th>12</th>\n      <td>2</td>\n      <td>16.285714</td>\n      <td>1501582</td>\n      <td>prior</td>\n      <td>2</td>\n      <td>5</td>\n      <td>10</td>\n      <td>10.0</td>\n      <td>0.614035</td>\n    </tr>\n    <tr>\n      <th>13</th>\n      <td>2</td>\n      <td>16.285714</td>\n      <td>1901567</td>\n      <td>prior</td>\n      <td>3</td>\n      <td>1</td>\n      <td>10</td>\n      <td>3.0</td>\n      <td>0.184211</td>\n    </tr>\n    <tr>\n      <th>14</th>\n      <td>2</td>\n      <td>16.285714</td>\n      <td>738281</td>\n      <td>prior</td>\n      <td>4</td>\n      <td>2</td>\n      <td>10</td>\n      <td>8.0</td>\n      <td>0.491228</td>\n    </tr>\n    <tr>\n      <th>15</th>\n      <td>2</td>\n      <td>16.285714</td>\n      <td>1673511</td>\n      <td>prior</td>\n      <td>5</td>\n      <td>3</td>\n      <td>11</td>\n      <td>8.0</td>\n      <td>0.491228</td>\n    </tr>\n    <tr>\n      <th>16</th>\n      <td>2</td>\n      <td>16.285714</td>\n      <td>1199898</td>\n      <td>prior</td>\n      <td>6</td>\n      <td>2</td>\n      <td>9</td>\n      <td>13.0</td>\n      <td>0.798246</td>\n    </tr>\n    <tr>\n      <th>17</th>\n      <td>2</td>\n      <td>16.285714</td>\n      <td>3194192</td>\n      <td>prior</td>\n      <td>7</td>\n      <td>2</td>\n      <td>12</td>\n      <td>14.0</td>\n      <td>0.859649</td>\n    </tr>\n    <tr>\n      <th>18</th>\n      <td>2</td>\n      <td>16.285714</td>\n      <td>788338</td>\n      <td>prior</td>\n      <td>8</td>\n      <td>1</td>\n      <td>15</td>\n      <td>27.0</td>\n      <td>1.657895</td>\n    </tr>\n    <tr>\n      <th>19</th>\n      <td>2</td>\n      <td>16.285714</td>\n      <td>1718559</td>\n      <td>prior</td>\n      <td>9</td>\n      <td>2</td>\n      <td>9</td>\n      <td>8.0</td>\n      <td>0.491228</td>\n    </tr>\n  </tbody>\n</table>\n</div>"
     },
     "metadata": {},
     "execution_count": 13
    }
   ],
   "source": [
    "orders.head(20)"
   ]
  },
  {
   "cell_type": "markdown",
   "metadata": {},
   "source": [
    "### Aufgabe 2"
   ]
  },
  {
   "cell_type": "markdown",
   "metadata": {},
   "source": [
    "Im ersten Schritt wollen wir einen Überblick über die Products-Tabelle bekommen:"
   ]
  },
  {
   "cell_type": "code",
   "execution_count": 14,
   "metadata": {},
   "outputs": [
    {
     "output_type": "execute_result",
     "data": {
      "text/plain": [
       "   product_id                                       product_name  aisle_id  \\\n",
       "0           1                         Chocolate Sandwich Cookies        61   \n",
       "1           2                                   All-Seasons Salt       104   \n",
       "2           3               Robust Golden Unsweetened Oolong Tea        94   \n",
       "3           4  Smart Ones Classic Favorites Mini Rigatoni Wit...        38   \n",
       "4           5                          Green Chile Anytime Sauce         5   \n",
       "\n",
       "   department_id  \n",
       "0             19  \n",
       "1             13  \n",
       "2              7  \n",
       "3              1  \n",
       "4             13  "
      ],
      "text/html": "<div>\n<style scoped>\n    .dataframe tbody tr th:only-of-type {\n        vertical-align: middle;\n    }\n\n    .dataframe tbody tr th {\n        vertical-align: top;\n    }\n\n    .dataframe thead th {\n        text-align: right;\n    }\n</style>\n<table border=\"1\" class=\"dataframe\">\n  <thead>\n    <tr style=\"text-align: right;\">\n      <th></th>\n      <th>product_id</th>\n      <th>product_name</th>\n      <th>aisle_id</th>\n      <th>department_id</th>\n    </tr>\n  </thead>\n  <tbody>\n    <tr>\n      <th>0</th>\n      <td>1</td>\n      <td>Chocolate Sandwich Cookies</td>\n      <td>61</td>\n      <td>19</td>\n    </tr>\n    <tr>\n      <th>1</th>\n      <td>2</td>\n      <td>All-Seasons Salt</td>\n      <td>104</td>\n      <td>13</td>\n    </tr>\n    <tr>\n      <th>2</th>\n      <td>3</td>\n      <td>Robust Golden Unsweetened Oolong Tea</td>\n      <td>94</td>\n      <td>7</td>\n    </tr>\n    <tr>\n      <th>3</th>\n      <td>4</td>\n      <td>Smart Ones Classic Favorites Mini Rigatoni Wit...</td>\n      <td>38</td>\n      <td>1</td>\n    </tr>\n    <tr>\n      <th>4</th>\n      <td>5</td>\n      <td>Green Chile Anytime Sauce</td>\n      <td>5</td>\n      <td>13</td>\n    </tr>\n  </tbody>\n</table>\n</div>"
     },
     "metadata": {},
     "execution_count": 14
    }
   ],
   "source": [
    "products.head()"
   ]
  },
  {
   "cell_type": "markdown",
   "metadata": {},
   "source": [
    "Wir wollen uns anzeigen lassen, welche product_id Produkte mit dem Namen 'Organic Avocado' besitzten, um diese im weiteren Verlauf zu verwenden:"
   ]
  },
  {
   "cell_type": "code",
   "execution_count": 26,
   "metadata": {},
   "outputs": [
    {
     "output_type": "execute_result",
     "data": {
      "text/plain": [
       "       product_id                   product_name  aisle_id  department_id\n",
       "6217         6218               Organic Avocados        83              4\n",
       "9188         9189       Organic Avocados 5 Count        32              4\n",
       "25821       25822            Organic Avocado Oil        19             13\n",
       "39000       39001  Organic Avocados Hass Variety        24              4\n",
       "47765       47766                Organic Avocado        24              4"
      ],
      "text/html": "<div>\n<style scoped>\n    .dataframe tbody tr th:only-of-type {\n        vertical-align: middle;\n    }\n\n    .dataframe tbody tr th {\n        vertical-align: top;\n    }\n\n    .dataframe thead th {\n        text-align: right;\n    }\n</style>\n<table border=\"1\" class=\"dataframe\">\n  <thead>\n    <tr style=\"text-align: right;\">\n      <th></th>\n      <th>product_id</th>\n      <th>product_name</th>\n      <th>aisle_id</th>\n      <th>department_id</th>\n    </tr>\n  </thead>\n  <tbody>\n    <tr>\n      <th>6217</th>\n      <td>6218</td>\n      <td>Organic Avocados</td>\n      <td>83</td>\n      <td>4</td>\n    </tr>\n    <tr>\n      <th>9188</th>\n      <td>9189</td>\n      <td>Organic Avocados 5 Count</td>\n      <td>32</td>\n      <td>4</td>\n    </tr>\n    <tr>\n      <th>25821</th>\n      <td>25822</td>\n      <td>Organic Avocado Oil</td>\n      <td>19</td>\n      <td>13</td>\n    </tr>\n    <tr>\n      <th>39000</th>\n      <td>39001</td>\n      <td>Organic Avocados Hass Variety</td>\n      <td>24</td>\n      <td>4</td>\n    </tr>\n    <tr>\n      <th>47765</th>\n      <td>47766</td>\n      <td>Organic Avocado</td>\n      <td>24</td>\n      <td>4</td>\n    </tr>\n  </tbody>\n</table>\n</div>"
     },
     "metadata": {},
     "execution_count": 26
    }
   ],
   "source": [
    "avocadoProductIDTabel = products[products['product_name'].str.contains('Organic Avocado', regex=False)]\n",
    "avocadoProductIDTabel"
   ]
  },
  {
   "cell_type": "code",
   "execution_count": 27,
   "metadata": {},
   "outputs": [
    {
     "output_type": "execute_result",
     "data": {
      "text/plain": [
       "   order_id  product_id  add_to_cart_order  reordered\n",
       "0         1       49302                  1          1\n",
       "1         1       11109                  2          1\n",
       "2         1       10246                  3          0\n",
       "3         1       49683                  4          0\n",
       "4         1       43633                  5          1"
      ],
      "text/html": "<div>\n<style scoped>\n    .dataframe tbody tr th:only-of-type {\n        vertical-align: middle;\n    }\n\n    .dataframe tbody tr th {\n        vertical-align: top;\n    }\n\n    .dataframe thead th {\n        text-align: right;\n    }\n</style>\n<table border=\"1\" class=\"dataframe\">\n  <thead>\n    <tr style=\"text-align: right;\">\n      <th></th>\n      <th>order_id</th>\n      <th>product_id</th>\n      <th>add_to_cart_order</th>\n      <th>reordered</th>\n    </tr>\n  </thead>\n  <tbody>\n    <tr>\n      <th>0</th>\n      <td>1</td>\n      <td>49302</td>\n      <td>1</td>\n      <td>1</td>\n    </tr>\n    <tr>\n      <th>1</th>\n      <td>1</td>\n      <td>11109</td>\n      <td>2</td>\n      <td>1</td>\n    </tr>\n    <tr>\n      <th>2</th>\n      <td>1</td>\n      <td>10246</td>\n      <td>3</td>\n      <td>0</td>\n    </tr>\n    <tr>\n      <th>3</th>\n      <td>1</td>\n      <td>49683</td>\n      <td>4</td>\n      <td>0</td>\n    </tr>\n    <tr>\n      <th>4</th>\n      <td>1</td>\n      <td>43633</td>\n      <td>5</td>\n      <td>1</td>\n    </tr>\n  </tbody>\n</table>\n</div>"
     },
     "metadata": {},
     "execution_count": 27
    }
   ],
   "source": [
    "op.head()"
   ]
  },
  {
   "cell_type": "markdown",
   "metadata": {},
   "source": [
    "Da die Tabelle op nicht über die Wochentage verfügt, wird im nachfolgenden Schritt eine Hilfstabelle erstellt, die die Tabelle opp um die Wochentage ergänzt:"
   ]
  },
  {
   "cell_type": "code",
   "execution_count": 28,
   "metadata": {},
   "outputs": [
    {
     "output_type": "execute_result",
     "data": {
      "text/plain": [
       "   order_id  order_dow  product_id  add_to_cart_order  reordered\n",
       "0   2539329          2         196                  1          0\n",
       "1   2539329          2       14084                  2          0\n",
       "2   2539329          2       12427                  3          0\n",
       "3   2539329          2       26088                  4          0\n",
       "4   2539329          2       26405                  5          0"
      ],
      "text/html": "<div>\n<style scoped>\n    .dataframe tbody tr th:only-of-type {\n        vertical-align: middle;\n    }\n\n    .dataframe tbody tr th {\n        vertical-align: top;\n    }\n\n    .dataframe thead th {\n        text-align: right;\n    }\n</style>\n<table border=\"1\" class=\"dataframe\">\n  <thead>\n    <tr style=\"text-align: right;\">\n      <th></th>\n      <th>order_id</th>\n      <th>order_dow</th>\n      <th>product_id</th>\n      <th>add_to_cart_order</th>\n      <th>reordered</th>\n    </tr>\n  </thead>\n  <tbody>\n    <tr>\n      <th>0</th>\n      <td>2539329</td>\n      <td>2</td>\n      <td>196</td>\n      <td>1</td>\n      <td>0</td>\n    </tr>\n    <tr>\n      <th>1</th>\n      <td>2539329</td>\n      <td>2</td>\n      <td>14084</td>\n      <td>2</td>\n      <td>0</td>\n    </tr>\n    <tr>\n      <th>2</th>\n      <td>2539329</td>\n      <td>2</td>\n      <td>12427</td>\n      <td>3</td>\n      <td>0</td>\n    </tr>\n    <tr>\n      <th>3</th>\n      <td>2539329</td>\n      <td>2</td>\n      <td>26088</td>\n      <td>4</td>\n      <td>0</td>\n    </tr>\n    <tr>\n      <th>4</th>\n      <td>2539329</td>\n      <td>2</td>\n      <td>26405</td>\n      <td>5</td>\n      <td>0</td>\n    </tr>\n  </tbody>\n</table>\n</div>"
     },
     "metadata": {},
     "execution_count": 28
    }
   ],
   "source": [
    "Avocadopart = pd.merge(orders[['order_id','order_dow']],\n",
    "             op)\n",
    "Avocadopart.head()"
   ]
  },
  {
   "cell_type": "markdown",
   "metadata": {},
   "source": [
    "Daraufhin erstellen wir eine Hilfstabelle, die uns für jeden Tag der Woche die Anzahl der Bestellungen angibt, sowie eine zweite Hilfstabelle, die uns für jeden Tag der Woche die Anzahl der Bestellungen angibt, die Organic Avocados beinhalten:"
   ]
  },
  {
   "cell_type": "code",
   "execution_count": 29,
   "metadata": {},
   "outputs": [
    {
     "output_type": "execute_result",
     "data": {
      "text/plain": [
       "           order_id\n",
       "order_dow          \n",
       "0           6533692\n",
       "1           5871834\n",
       "2           4378360\n",
       "3           3998498\n",
       "4           3942696"
      ],
      "text/html": "<div>\n<style scoped>\n    .dataframe tbody tr th:only-of-type {\n        vertical-align: middle;\n    }\n\n    .dataframe tbody tr th {\n        vertical-align: top;\n    }\n\n    .dataframe thead th {\n        text-align: right;\n    }\n</style>\n<table border=\"1\" class=\"dataframe\">\n  <thead>\n    <tr style=\"text-align: right;\">\n      <th></th>\n      <th>order_id</th>\n    </tr>\n    <tr>\n      <th>order_dow</th>\n      <th></th>\n    </tr>\n  </thead>\n  <tbody>\n    <tr>\n      <th>0</th>\n      <td>6533692</td>\n    </tr>\n    <tr>\n      <th>1</th>\n      <td>5871834</td>\n    </tr>\n    <tr>\n      <th>2</th>\n      <td>4378360</td>\n    </tr>\n    <tr>\n      <th>3</th>\n      <td>3998498</td>\n    </tr>\n    <tr>\n      <th>4</th>\n      <td>3942696</td>\n    </tr>\n  </tbody>\n</table>\n</div>"
     },
     "metadata": {},
     "execution_count": 29
    }
   ],
   "source": [
    "Avocadopart_2 = Avocadopart.pivot_table('order_id', 'order_dow', aggfunc = 'count')\n",
    "Avocadopart_2.head()"
   ]
  },
  {
   "cell_type": "code",
   "execution_count": 30,
   "metadata": {},
   "outputs": [],
   "source": [
    "Avocadopart_2 = Avocadopart_2.reset_index()"
   ]
  },
  {
   "cell_type": "code",
   "execution_count": 44,
   "metadata": {},
   "outputs": [
    {
     "output_type": "execute_result",
     "data": {
      "text/plain": [
       "           order_id\n",
       "order_dow          \n",
       "0             43146\n",
       "1             34638\n",
       "2             23286\n",
       "3             20521\n",
       "4             20001\n",
       "5             22383\n",
       "6             26986"
      ],
      "text/html": "<div>\n<style scoped>\n    .dataframe tbody tr th:only-of-type {\n        vertical-align: middle;\n    }\n\n    .dataframe tbody tr th {\n        vertical-align: top;\n    }\n\n    .dataframe thead th {\n        text-align: right;\n    }\n</style>\n<table border=\"1\" class=\"dataframe\">\n  <thead>\n    <tr style=\"text-align: right;\">\n      <th></th>\n      <th>order_id</th>\n    </tr>\n    <tr>\n      <th>order_dow</th>\n      <th></th>\n    </tr>\n  </thead>\n  <tbody>\n    <tr>\n      <th>0</th>\n      <td>43146</td>\n    </tr>\n    <tr>\n      <th>1</th>\n      <td>34638</td>\n    </tr>\n    <tr>\n      <th>2</th>\n      <td>23286</td>\n    </tr>\n    <tr>\n      <th>3</th>\n      <td>20521</td>\n    </tr>\n    <tr>\n      <th>4</th>\n      <td>20001</td>\n    </tr>\n    <tr>\n      <th>5</th>\n      <td>22383</td>\n    </tr>\n    <tr>\n      <th>6</th>\n      <td>26986</td>\n    </tr>\n  </tbody>\n</table>\n</div>"
     },
     "metadata": {},
     "execution_count": 44
    }
   ],
   "source": [
    "Avocadopart_3 = Avocadopart[Avocadopart.product_id.isin(avocadoProductIDTabel.product_id.tolist())].pivot_table('order_id', 'order_dow', aggfunc ='count')\n",
    "Avocadopart_3"
   ]
  },
  {
   "cell_type": "code",
   "execution_count": 45,
   "metadata": {},
   "outputs": [],
   "source": [
    "Avocadopart_3.rename(columns = {'order_id': 'orders_containing_Avocado'}, inplace = True)"
   ]
  },
  {
   "cell_type": "code",
   "execution_count": 46,
   "metadata": {},
   "outputs": [
    {
     "output_type": "execute_result",
     "data": {
      "text/plain": [
       "           orders_containing_Avocado\n",
       "order_dow                           \n",
       "0                              43146\n",
       "1                              34638\n",
       "2                              23286\n",
       "3                              20521\n",
       "4                              20001\n",
       "5                              22383\n",
       "6                              26986"
      ],
      "text/html": "<div>\n<style scoped>\n    .dataframe tbody tr th:only-of-type {\n        vertical-align: middle;\n    }\n\n    .dataframe tbody tr th {\n        vertical-align: top;\n    }\n\n    .dataframe thead th {\n        text-align: right;\n    }\n</style>\n<table border=\"1\" class=\"dataframe\">\n  <thead>\n    <tr style=\"text-align: right;\">\n      <th></th>\n      <th>orders_containing_Avocado</th>\n    </tr>\n    <tr>\n      <th>order_dow</th>\n      <th></th>\n    </tr>\n  </thead>\n  <tbody>\n    <tr>\n      <th>0</th>\n      <td>43146</td>\n    </tr>\n    <tr>\n      <th>1</th>\n      <td>34638</td>\n    </tr>\n    <tr>\n      <th>2</th>\n      <td>23286</td>\n    </tr>\n    <tr>\n      <th>3</th>\n      <td>20521</td>\n    </tr>\n    <tr>\n      <th>4</th>\n      <td>20001</td>\n    </tr>\n    <tr>\n      <th>5</th>\n      <td>22383</td>\n    </tr>\n    <tr>\n      <th>6</th>\n      <td>26986</td>\n    </tr>\n  </tbody>\n</table>\n</div>"
     },
     "metadata": {},
     "execution_count": 46
    }
   ],
   "source": [
    "Avocadopart_3"
   ]
  },
  {
   "cell_type": "code",
   "execution_count": 47,
   "metadata": {},
   "outputs": [],
   "source": [
    "Avocadopart_3 = Avocadopart_3.reset_index()"
   ]
  },
  {
   "cell_type": "markdown",
   "metadata": {},
   "source": [
    "Schlussendlich vereinen wir die dataframes in einem finalen Frame (Avocadopart_4) ud teilen die Bestellungen die Avocado enthalten durch die Gesamtzahl der Bestellungen, um den Anteil der Bestellungen pro Tag zu erhalten, die Avocados beinhalten:"
   ]
  },
  {
   "cell_type": "code",
   "execution_count": 48,
   "metadata": {},
   "outputs": [
    {
     "output_type": "execute_result",
     "data": {
      "text/plain": [
       "   order_dow  orders_containing_Avocado  order_id\n",
       "0          0                      43146   6533692\n",
       "1          1                      34638   5871834\n",
       "2          2                      23286   4378360\n",
       "3          3                      20521   3998498\n",
       "4          4                      20001   3942696\n",
       "5          5                      22383   4386443\n",
       "6          6                      26986   4707583"
      ],
      "text/html": "<div>\n<style scoped>\n    .dataframe tbody tr th:only-of-type {\n        vertical-align: middle;\n    }\n\n    .dataframe tbody tr th {\n        vertical-align: top;\n    }\n\n    .dataframe thead th {\n        text-align: right;\n    }\n</style>\n<table border=\"1\" class=\"dataframe\">\n  <thead>\n    <tr style=\"text-align: right;\">\n      <th></th>\n      <th>order_dow</th>\n      <th>orders_containing_Avocado</th>\n      <th>order_id</th>\n    </tr>\n  </thead>\n  <tbody>\n    <tr>\n      <th>0</th>\n      <td>0</td>\n      <td>43146</td>\n      <td>6533692</td>\n    </tr>\n    <tr>\n      <th>1</th>\n      <td>1</td>\n      <td>34638</td>\n      <td>5871834</td>\n    </tr>\n    <tr>\n      <th>2</th>\n      <td>2</td>\n      <td>23286</td>\n      <td>4378360</td>\n    </tr>\n    <tr>\n      <th>3</th>\n      <td>3</td>\n      <td>20521</td>\n      <td>3998498</td>\n    </tr>\n    <tr>\n      <th>4</th>\n      <td>4</td>\n      <td>20001</td>\n      <td>3942696</td>\n    </tr>\n    <tr>\n      <th>5</th>\n      <td>5</td>\n      <td>22383</td>\n      <td>4386443</td>\n    </tr>\n    <tr>\n      <th>6</th>\n      <td>6</td>\n      <td>26986</td>\n      <td>4707583</td>\n    </tr>\n  </tbody>\n</table>\n</div>"
     },
     "metadata": {},
     "execution_count": 48
    }
   ],
   "source": [
    "Avocadopart_4 = pd.merge(Avocadopart_3[['order_dow','orders_containing_Avocado']],\n",
    "             Avocadopart_2)\n",
    "Avocadopart_4"
   ]
  },
  {
   "cell_type": "code",
   "execution_count": 49,
   "metadata": {},
   "outputs": [],
   "source": [
    "Avocadopart_4['orders_containing_Avocado_in_perc'] = Avocadopart_4['orders_containing_Avocado']/Avocadopart_4['order_id']"
   ]
  },
  {
   "cell_type": "code",
   "execution_count": 50,
   "metadata": {},
   "outputs": [
    {
     "output_type": "execute_result",
     "data": {
      "text/plain": [
       "   order_dow  orders_containing_Avocado  order_id  \\\n",
       "0          0                      43146   6533692   \n",
       "1          1                      34638   5871834   \n",
       "2          2                      23286   4378360   \n",
       "3          3                      20521   3998498   \n",
       "4          4                      20001   3942696   \n",
       "5          5                      22383   4386443   \n",
       "6          6                      26986   4707583   \n",
       "\n",
       "   orders_containing_Avocado_in_perc  \n",
       "0                           0.006604  \n",
       "1                           0.005899  \n",
       "2                           0.005318  \n",
       "3                           0.005132  \n",
       "4                           0.005073  \n",
       "5                           0.005103  \n",
       "6                           0.005732  "
      ],
      "text/html": "<div>\n<style scoped>\n    .dataframe tbody tr th:only-of-type {\n        vertical-align: middle;\n    }\n\n    .dataframe tbody tr th {\n        vertical-align: top;\n    }\n\n    .dataframe thead th {\n        text-align: right;\n    }\n</style>\n<table border=\"1\" class=\"dataframe\">\n  <thead>\n    <tr style=\"text-align: right;\">\n      <th></th>\n      <th>order_dow</th>\n      <th>orders_containing_Avocado</th>\n      <th>order_id</th>\n      <th>orders_containing_Avocado_in_perc</th>\n    </tr>\n  </thead>\n  <tbody>\n    <tr>\n      <th>0</th>\n      <td>0</td>\n      <td>43146</td>\n      <td>6533692</td>\n      <td>0.006604</td>\n    </tr>\n    <tr>\n      <th>1</th>\n      <td>1</td>\n      <td>34638</td>\n      <td>5871834</td>\n      <td>0.005899</td>\n    </tr>\n    <tr>\n      <th>2</th>\n      <td>2</td>\n      <td>23286</td>\n      <td>4378360</td>\n      <td>0.005318</td>\n    </tr>\n    <tr>\n      <th>3</th>\n      <td>3</td>\n      <td>20521</td>\n      <td>3998498</td>\n      <td>0.005132</td>\n    </tr>\n    <tr>\n      <th>4</th>\n      <td>4</td>\n      <td>20001</td>\n      <td>3942696</td>\n      <td>0.005073</td>\n    </tr>\n    <tr>\n      <th>5</th>\n      <td>5</td>\n      <td>22383</td>\n      <td>4386443</td>\n      <td>0.005103</td>\n    </tr>\n    <tr>\n      <th>6</th>\n      <td>6</td>\n      <td>26986</td>\n      <td>4707583</td>\n      <td>0.005732</td>\n    </tr>\n  </tbody>\n</table>\n</div>"
     },
     "metadata": {},
     "execution_count": 50
    }
   ],
   "source": [
    "Avocadopart_4"
   ]
  },
  {
   "cell_type": "markdown",
   "metadata": {},
   "source": [
    "### Aufgabe 3"
   ]
  },
  {
   "cell_type": "markdown",
   "metadata": {},
   "source": [
    "Im ersten Schritt lassen wir uns die Anzahl an Bestellungen ausgeben, die Avocados enthalten."
   ]
  },
  {
   "cell_type": "code",
   "execution_count": 52,
   "metadata": {},
   "outputs": [
    {
     "output_type": "stream",
     "name": "stdout",
     "text": [
      "Anzahl an Bestellposten Avocados: 190961\n"
     ]
    }
   ],
   "source": [
    "# Find orders with avocados (Product 47766)\n",
    "ordersWithAvocados = (op.loc[op['product_id'].isin(avocadoProductIDTabel.product_id.tolist()),'order_id'])\n",
    "\n",
    "print(f\"Anzahl an Bestellposten Avocados: {len(ordersWithAvocados)}\")"
   ]
  },
  {
   "cell_type": "markdown",
   "metadata": {},
   "source": [
    "Wir benötigen für den weiteren Verlauf eine Spalte in unserer orders Tabelle, die angibt, ob eine Bestellung Avocado(s) enthalten hat oder nicht. Da wir nicht alle Spalten der orders Tabelle benötigen, werden die überflüssigen Spalten gedropped."
   ]
  },
  {
   "cell_type": "code",
   "execution_count": 53,
   "metadata": {},
   "outputs": [],
   "source": [
    "orders.drop([\"eval_set\", \"order_dow\", \"order_hour_of_day\", \"days_since_prior_order\", \"mean_days_since_prior_order\", \"factor\"], axis=1, inplace=True)"
   ]
  },
  {
   "cell_type": "code",
   "execution_count": 54,
   "metadata": {},
   "outputs": [
    {
     "output_type": "execute_result",
     "data": {
      "text/plain": [
       "   user_id  order_id  order_number  contains_avocados\n",
       "0        1   2539329             1              False\n",
       "1        1   2398795             2              False\n",
       "2        1    473747             3              False\n",
       "3        1   2254736             4              False\n",
       "4        1    431534             5              False"
      ],
      "text/html": "<div>\n<style scoped>\n    .dataframe tbody tr th:only-of-type {\n        vertical-align: middle;\n    }\n\n    .dataframe tbody tr th {\n        vertical-align: top;\n    }\n\n    .dataframe thead th {\n        text-align: right;\n    }\n</style>\n<table border=\"1\" class=\"dataframe\">\n  <thead>\n    <tr style=\"text-align: right;\">\n      <th></th>\n      <th>user_id</th>\n      <th>order_id</th>\n      <th>order_number</th>\n      <th>contains_avocados</th>\n    </tr>\n  </thead>\n  <tbody>\n    <tr>\n      <th>0</th>\n      <td>1</td>\n      <td>2539329</td>\n      <td>1</td>\n      <td>False</td>\n    </tr>\n    <tr>\n      <th>1</th>\n      <td>1</td>\n      <td>2398795</td>\n      <td>2</td>\n      <td>False</td>\n    </tr>\n    <tr>\n      <th>2</th>\n      <td>1</td>\n      <td>473747</td>\n      <td>3</td>\n      <td>False</td>\n    </tr>\n    <tr>\n      <th>3</th>\n      <td>1</td>\n      <td>2254736</td>\n      <td>4</td>\n      <td>False</td>\n    </tr>\n    <tr>\n      <th>4</th>\n      <td>1</td>\n      <td>431534</td>\n      <td>5</td>\n      <td>False</td>\n    </tr>\n  </tbody>\n</table>\n</div>"
     },
     "metadata": {},
     "execution_count": 54
    }
   ],
   "source": [
    "# Mark orders with avocados in orders table\n",
    "orders.loc[:,'contains_avocados']=orders['order_id'].isin(ordersWithAvocados)\n",
    "orders.head(5)"
   ]
  },
  {
   "cell_type": "code",
   "execution_count": 55,
   "metadata": {},
   "outputs": [
    {
     "output_type": "stream",
     "name": "stdout",
     "text": [
      "Anzahl an gefundenen Bestellungen mit Avocados: 190909\n"
     ]
    }
   ],
   "source": [
    "result = len ( orders [ orders['contains_avocados'] == True ])\n",
    "print(f\"Anzahl an gefundenen Bestellungen mit Avocados: {result}\")"
   ]
  },
  {
   "source": [
    "### Ansatz:\n",
    "Um die Relation der vorherigen Bestellung (Enthält Avocados oder nicht) abzubilden wird ein Comparison frame erstellt.\n",
    "Dieser beinhaltet als \"order_number\" auf welche Folgebestellung sich der Wahrheitswert \"priorOrderContainsAvocados\" bezieht."
   ],
   "cell_type": "markdown",
   "metadata": {}
  },
  {
   "cell_type": "code",
   "execution_count": 56,
   "metadata": {},
   "outputs": [
    {
     "output_type": "execute_result",
     "data": {
      "text/plain": [
       "   user_id  order_id  order_number  priorOrderContainsAvocados\n",
       "0        1   2539329             2                       False\n",
       "1        1   2398795             3                       False\n",
       "2        1    473747             4                       False\n",
       "3        1   2254736             5                       False\n",
       "4        1    431534             6                       False"
      ],
      "text/html": "<div>\n<style scoped>\n    .dataframe tbody tr th:only-of-type {\n        vertical-align: middle;\n    }\n\n    .dataframe tbody tr th {\n        vertical-align: top;\n    }\n\n    .dataframe thead th {\n        text-align: right;\n    }\n</style>\n<table border=\"1\" class=\"dataframe\">\n  <thead>\n    <tr style=\"text-align: right;\">\n      <th></th>\n      <th>user_id</th>\n      <th>order_id</th>\n      <th>order_number</th>\n      <th>priorOrderContainsAvocados</th>\n    </tr>\n  </thead>\n  <tbody>\n    <tr>\n      <th>0</th>\n      <td>1</td>\n      <td>2539329</td>\n      <td>2</td>\n      <td>False</td>\n    </tr>\n    <tr>\n      <th>1</th>\n      <td>1</td>\n      <td>2398795</td>\n      <td>3</td>\n      <td>False</td>\n    </tr>\n    <tr>\n      <th>2</th>\n      <td>1</td>\n      <td>473747</td>\n      <td>4</td>\n      <td>False</td>\n    </tr>\n    <tr>\n      <th>3</th>\n      <td>1</td>\n      <td>2254736</td>\n      <td>5</td>\n      <td>False</td>\n    </tr>\n    <tr>\n      <th>4</th>\n      <td>1</td>\n      <td>431534</td>\n      <td>6</td>\n      <td>False</td>\n    </tr>\n  </tbody>\n</table>\n</div>"
     },
     "metadata": {},
     "execution_count": 56
    }
   ],
   "source": [
    "# Create Comparison frame\n",
    "orderComparison = orders.copy()\n",
    "orderComparison.rename({'contains_avocados': 'priorOrderContainsAvocados'}, axis=1, inplace=True)\n",
    "orderComparison[\"order_number\"] = orderComparison[\"order_number\"].apply(lambda row: row+1 )\n",
    "orderComparison.head(5)"
   ]
  },
  {
   "source": [
    "Die beiden Dataframes werden nun durch eine \"Left Outer Join\"-Operation über ihre UserID und OrderNumber verbunden."
   ],
   "cell_type": "markdown",
   "metadata": {}
  },
  {
   "cell_type": "code",
   "execution_count": 29,
   "metadata": {},
   "outputs": [
    {
     "data": {
      "text/html": [
       "<div>\n",
       "<style scoped>\n",
       "    .dataframe tbody tr th:only-of-type {\n",
       "        vertical-align: middle;\n",
       "    }\n",
       "\n",
       "    .dataframe tbody tr th {\n",
       "        vertical-align: top;\n",
       "    }\n",
       "\n",
       "    .dataframe thead th {\n",
       "        text-align: right;\n",
       "    }\n",
       "</style>\n",
       "<table border=\"1\" class=\"dataframe\">\n",
       "  <thead>\n",
       "    <tr style=\"text-align: right;\">\n",
       "      <th></th>\n",
       "      <th>user_id</th>\n",
       "      <th>order_id_x</th>\n",
       "      <th>order_number</th>\n",
       "      <th>contains_avocados</th>\n",
       "      <th>order_id_y</th>\n",
       "      <th>priorOrderContainsAvocados</th>\n",
       "    </tr>\n",
       "  </thead>\n",
       "  <tbody>\n",
       "    <tr>\n",
       "      <th>0</th>\n",
       "      <td>1</td>\n",
       "      <td>2539329</td>\n",
       "      <td>1</td>\n",
       "      <td>False</td>\n",
       "      <td>NaN</td>\n",
       "      <td>NaN</td>\n",
       "    </tr>\n",
       "    <tr>\n",
       "      <th>1</th>\n",
       "      <td>1</td>\n",
       "      <td>2398795</td>\n",
       "      <td>2</td>\n",
       "      <td>False</td>\n",
       "      <td>2539329.0</td>\n",
       "      <td>False</td>\n",
       "    </tr>\n",
       "    <tr>\n",
       "      <th>2</th>\n",
       "      <td>1</td>\n",
       "      <td>473747</td>\n",
       "      <td>3</td>\n",
       "      <td>False</td>\n",
       "      <td>2398795.0</td>\n",
       "      <td>False</td>\n",
       "    </tr>\n",
       "    <tr>\n",
       "      <th>3</th>\n",
       "      <td>1</td>\n",
       "      <td>2254736</td>\n",
       "      <td>4</td>\n",
       "      <td>False</td>\n",
       "      <td>473747.0</td>\n",
       "      <td>False</td>\n",
       "    </tr>\n",
       "    <tr>\n",
       "      <th>4</th>\n",
       "      <td>1</td>\n",
       "      <td>431534</td>\n",
       "      <td>5</td>\n",
       "      <td>False</td>\n",
       "      <td>2254736.0</td>\n",
       "      <td>False</td>\n",
       "    </tr>\n",
       "  </tbody>\n",
       "</table>\n",
       "</div>"
      ],
      "text/plain": [
       "   user_id  order_id_x  order_number  contains_avocados  order_id_y  \\\n",
       "0        1     2539329             1              False         NaN   \n",
       "1        1     2398795             2              False   2539329.0   \n",
       "2        1      473747             3              False   2398795.0   \n",
       "3        1     2254736             4              False    473747.0   \n",
       "4        1      431534             5              False   2254736.0   \n",
       "\n",
       "  priorOrderContainsAvocados  \n",
       "0                        NaN  \n",
       "1                      False  \n",
       "2                      False  \n",
       "3                      False  \n",
       "4                      False  "
      ]
     },
     "execution_count": 29,
     "metadata": {},
     "output_type": "execute_result"
    }
   ],
   "source": [
    "# Join the data frames together\n",
    "orderMap = orders.merge(orderComparison, how='left', left_on=[\"user_id\", \"order_number\"], right_on=[\"user_id\", \"order_number\"])\n",
    "orderMap.head(5)\n",
    "\n",
    "# Alternative: Function\n",
    "# oph['priorOrderContainsAvocados'] = oph.apply(lambda row: False if row[\"order_number\"] == 1 or oph.iloc[row.name-1][\"contains_avocados\"] == False else True, axis=1)"
   ]
  },
  {
   "cell_type": "code",
   "execution_count": 60,
   "metadata": {},
   "outputs": [
    {
     "output_type": "stream",
     "name": "stdout",
     "text": [
      "Anzahl an Bestellungen mit Avocados: 190909\n-> Wahrscheinlichkeit: 0.06 \n\nAvokados nicht direkt davor bestellt:\n-> Anzahl: 92947\n-> Wahrscheinlichkeit: 0.03 \n\nAvokados direkt davor bestellt:\n-> Anzahl: 81873\n-> Wahrscheinlichkeit: 0.02 \n\n"
     ]
    }
   ],
   "source": [
    "resultA = len ( orderMap [ orderMap['contains_avocados'] == True ])\n",
    "resultB = len ( orderMap [ (orderMap['contains_avocados'] == True) & (orderMap['priorOrderContainsAvocados'] == False) ])\n",
    "resultC = len ( orderMap [ (orderMap['contains_avocados'] == True) & (orderMap['priorOrderContainsAvocados'] == True) ])\n",
    "total = len ( orderMap )\n",
    "\n",
    "print( f\"Anzahl an Bestellungen mit Avocados: {resultA}\" )\n",
    "print( f\"-> Wahrscheinlichkeit: { round(resultA / total, 2)} \\n\" )\n",
    "\n",
    "print(\"Avokados nicht direkt davor bestellt:\")\n",
    "print( f\"-> Anzahl: {resultB}\" )\n",
    "print( f\"-> Wahrscheinlichkeit: { round(resultB / total, 2)} \\n\" )\n",
    "\n",
    "print(\"Avokados direkt davor bestellt:\")\n",
    "print( f\"-> Anzahl: {resultC}\" )\n",
    "print( f\"-> Wahrscheinlichkeit: { round(resultC / total, 2)} \\n\" )"
   ]
  },
  {
   "cell_type": "code",
   "execution_count": null,
   "metadata": {},
   "outputs": [],
   "source": []
  }
 ],
 "metadata": {
  "kernelspec": {
   "name": "python373jvsc74a57bd0b3ba2566441a7c06988d0923437866b63cedc61552a5af99d1f4fb67d367b25f",
   "display_name": "Python 3.7.3 64-bit ('Anaconda3')"
  },
  "language_info": {
   "codemirror_mode": {
    "name": "ipython",
    "version": 3
   },
   "file_extension": ".py",
   "mimetype": "text/x-python",
   "name": "python",
   "nbconvert_exporter": "python",
   "pygments_lexer": "ipython3",
   "version": "3.7.3"
  }
 },
 "nbformat": 4,
 "nbformat_minor": 4
}